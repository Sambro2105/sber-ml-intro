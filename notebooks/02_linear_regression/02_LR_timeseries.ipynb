{
 "cells": [
  {
   "cell_type": "code",
   "execution_count": 1,
   "metadata": {},
   "outputs": [
    {
     "data": {
      "text/plain": [
       "'C:\\\\Users\\\\me\\\\Documents\\\\projects\\\\sber-ml-intro\\\\notebooks\\\\02_linear_regression'"
      ]
     },
     "execution_count": 1,
     "metadata": {},
     "output_type": "execute_result"
    }
   ],
   "source": [
    "pwd"
   ]
  },
  {
   "cell_type": "code",
   "execution_count": 1,
   "metadata": {},
   "outputs": [],
   "source": [
    "import pandas as pd\n",
    "import numpy as np\n",
    "import matplotlib.pyplot as plt\n",
    "%matplotlib inline\n",
    "\n",
    "# эстетики ради\n",
    "import seaborn as sns\n",
    "sns.set() "
   ]
  },
  {
   "cell_type": "code",
   "execution_count": 2,
   "metadata": {},
   "outputs": [],
   "source": [
    "country_data = pd.read_csv('../../data/raw/country_data.csv', parse_dates = ['report_dt'])\n",
    "regions_data = pd.read_csv('../../data/raw/regions_data.csv', parse_dates = ['report_dt'])"
   ]
  },
  {
   "cell_type": "code",
   "execution_count": 3,
   "metadata": {},
   "outputs": [
    {
     "data": {
      "image/png": "[encoded data removed]",
      "text/plain": [
       "<Figure size 432x288 with 1 Axes>"
      ]
     },
     "metadata": {},
     "output_type": "display_data"
    }
   ],
   "source": [
    "country = country_data[['report_dt','val']].set_index('report_dt').sort_index()\\\n",
    "    .squeeze()\n",
    "country.plot()\n",
    "plt.show()"
   ]
  },
  {
   "cell_type": "code",
   "execution_count": 5,
   "metadata": {},
   "outputs": [
    {
     "data": {
      "text/html": [
       "<div>\n",
       "<style scoped>\n",
       "    .dataframe tbody tr th:only-of-type {\n",
       "        vertical-align: middle;\n",
       "    }\n",
       "\n",
       "    .dataframe tbody tr th {\n",
       "        vertical-align: top;\n",
       "    }\n",
       "\n",
       "    .dataframe thead th {\n",
       "        text-align: right;\n",
       "    }\n",
       "</style>\n",
       "<table border=\"1\" class=\"dataframe\">\n",
       "  <thead>\n",
       "    <tr style=\"text-align: right;\">\n",
       "      <th></th>\n",
       "      <th>metric</th>\n",
       "      <th>Block_Id</th>\n",
       "      <th>Terr_Id</th>\n",
       "      <th>report_dt</th>\n",
       "      <th>val</th>\n",
       "    </tr>\n",
       "  </thead>\n",
       "  <tbody>\n",
       "    <tr>\n",
       "      <th>0</th>\n",
       "      <td>universalis</td>\n",
       "      <td>Эпсилон</td>\n",
       "      <td>D-946</td>\n",
       "      <td>2017-07-31</td>\n",
       "      <td>110.833004</td>\n",
       "    </tr>\n",
       "    <tr>\n",
       "      <th>1</th>\n",
       "      <td>universalis</td>\n",
       "      <td>Эпсилон</td>\n",
       "      <td>D-946</td>\n",
       "      <td>2018-01-31</td>\n",
       "      <td>137.283747</td>\n",
       "    </tr>\n",
       "    <tr>\n",
       "      <th>2</th>\n",
       "      <td>universalis</td>\n",
       "      <td>Эпсилон</td>\n",
       "      <td>D-946</td>\n",
       "      <td>2017-09-30</td>\n",
       "      <td>162.325936</td>\n",
       "    </tr>\n",
       "    <tr>\n",
       "      <th>3</th>\n",
       "      <td>universalis</td>\n",
       "      <td>Эпсилон</td>\n",
       "      <td>D-946</td>\n",
       "      <td>2018-04-30</td>\n",
       "      <td>164.231390</td>\n",
       "    </tr>\n",
       "    <tr>\n",
       "      <th>4</th>\n",
       "      <td>universalis</td>\n",
       "      <td>Эпсилон</td>\n",
       "      <td>D-946</td>\n",
       "      <td>2017-08-31</td>\n",
       "      <td>176.715415</td>\n",
       "    </tr>\n",
       "  </tbody>\n",
       "</table>\n",
       "</div>"
      ],
      "text/plain": [
       "        metric Block_Id Terr_Id  report_dt         val\n",
       "0  universalis  Эпсилон   D-946 2017-07-31  110.833004\n",
       "1  universalis  Эпсилон   D-946 2018-01-31  137.283747\n",
       "2  universalis  Эпсилон   D-946 2017-09-30  162.325936\n",
       "3  universalis  Эпсилон   D-946 2018-04-30  164.231390\n",
       "4  universalis  Эпсилон   D-946 2017-08-31  176.715415"
      ]
     },
     "execution_count": 5,
     "metadata": {},
     "output_type": "execute_result"
    }
   ],
   "source": [
    "regions_data.head()"
   ]
  },
  {
   "cell_type": "code",
   "execution_count": 7,
   "metadata": {},
   "outputs": [
    {
     "data": {
      "text/html": [
       "<div>\n",
       "<style scoped>\n",
       "    .dataframe tbody tr th:only-of-type {\n",
       "        vertical-align: middle;\n",
       "    }\n",
       "\n",
       "    .dataframe tbody tr th {\n",
       "        vertical-align: top;\n",
       "    }\n",
       "\n",
       "    .dataframe thead th {\n",
       "        text-align: right;\n",
       "    }\n",
       "</style>\n",
       "<table border=\"1\" class=\"dataframe\">\n",
       "  <thead>\n",
       "    <tr style=\"text-align: right;\">\n",
       "      <th></th>\n",
       "      <th>metric</th>\n",
       "      <th>Block_Id</th>\n",
       "      <th>Terr_Id</th>\n",
       "    </tr>\n",
       "  </thead>\n",
       "  <tbody>\n",
       "    <tr>\n",
       "      <th>0</th>\n",
       "      <td>universalis</td>\n",
       "      <td>Альфа</td>\n",
       "      <td>A-713</td>\n",
       "    </tr>\n",
       "    <tr>\n",
       "      <th>1</th>\n",
       "      <td>universalis</td>\n",
       "      <td>Альфа</td>\n",
       "      <td>A-760</td>\n",
       "    </tr>\n",
       "    <tr>\n",
       "      <th>2</th>\n",
       "      <td>universalis</td>\n",
       "      <td>Альфа</td>\n",
       "      <td>B-642</td>\n",
       "    </tr>\n",
       "    <tr>\n",
       "      <th>3</th>\n",
       "      <td>universalis</td>\n",
       "      <td>Альфа</td>\n",
       "      <td>B-785</td>\n",
       "    </tr>\n",
       "    <tr>\n",
       "      <th>4</th>\n",
       "      <td>universalis</td>\n",
       "      <td>Альфа</td>\n",
       "      <td>B-824</td>\n",
       "    </tr>\n",
       "    <tr>\n",
       "      <th>...</th>\n",
       "      <td>...</td>\n",
       "      <td>...</td>\n",
       "      <td>...</td>\n",
       "    </tr>\n",
       "    <tr>\n",
       "      <th>83</th>\n",
       "      <td>universalis</td>\n",
       "      <td>Эта</td>\n",
       "      <td>D-651</td>\n",
       "    </tr>\n",
       "    <tr>\n",
       "      <th>84</th>\n",
       "      <td>universalis</td>\n",
       "      <td>Эта</td>\n",
       "      <td>D-751</td>\n",
       "    </tr>\n",
       "    <tr>\n",
       "      <th>85</th>\n",
       "      <td>universalis</td>\n",
       "      <td>Эта</td>\n",
       "      <td>E-846</td>\n",
       "    </tr>\n",
       "    <tr>\n",
       "      <th>86</th>\n",
       "      <td>universalis</td>\n",
       "      <td>Эта</td>\n",
       "      <td>E-853</td>\n",
       "    </tr>\n",
       "    <tr>\n",
       "      <th>87</th>\n",
       "      <td>universalis</td>\n",
       "      <td>Эта</td>\n",
       "      <td>F-834</td>\n",
       "    </tr>\n",
       "  </tbody>\n",
       "</table>\n",
       "<p>88 rows × 3 columns</p>\n",
       "</div>"
      ],
      "text/plain": [
       "         metric Block_Id Terr_Id\n",
       "0   universalis    Альфа   A-713\n",
       "1   universalis    Альфа   A-760\n",
       "2   universalis    Альфа   B-642\n",
       "3   universalis    Альфа   B-785\n",
       "4   universalis    Альфа   B-824\n",
       "..          ...      ...     ...\n",
       "83  universalis      Эта   D-651\n",
       "84  universalis      Эта   D-751\n",
       "85  universalis      Эта   E-846\n",
       "86  universalis      Эта   E-853\n",
       "87  universalis      Эта   F-834\n",
       "\n",
       "[88 rows x 3 columns]"
      ]
     },
     "execution_count": 7,
     "metadata": {},
     "output_type": "execute_result"
    }
   ],
   "source": [
    "# из структуры таблицы region_data видно, что данные сгрупированы по полям metric, Block_Id, Terr_Id \n",
    "group_columns = ['metric', 'Block_Id', 'Terr_Id']\n",
    "# а какие имеются уникальные группы?\n",
    "pd.DataFrame(regions_data.groupby(group_columns).groups.keys(), columns = group_columns )"
   ]
  },
  {
   "cell_type": "code",
   "execution_count": 10,
   "metadata": {},
   "outputs": [
    {
     "data": {
      "image/png": "[encoded data removed]",
      "text/plain": [
       "<Figure size 576x360 with 1 Axes>"
      ]
     },
     "metadata": {},
     "output_type": "display_data"
    }
   ],
   "source": [
    "from sklearn.linear_model import LinearRegression\n",
    "\n",
    "# итерируемся по сгруппированным данным\n",
    "for key, region in regions_data.groupby(group_columns):\n",
    "    key = dict(zip(group_columns, key)) # ключ конвертируем в словарь\n",
    "    \n",
    "    # преобразуем датафрейм\n",
    "    region = region[['report_dt','val']].set_index('report_dt').sort_index().squeeze()\n",
    "    \n",
    "    # чтобы проверить качество предсказания отделяем последние 12 месяцев из факта\n",
    "    validation_split = region.iloc[-12:]\n",
    "    # в обучающую выборку падают все точки, за исключением имеющихся в валидационной\n",
    "    train_split = region[~region.index.isin(validation_split.index)]\n",
    "    \n",
    "    dataset = country.to_frame('X').join(train_split.to_frame('y'))\n",
    "    X_train = dataset.dropna().X.values.reshape(-1,1)\n",
    "    y_train = dataset.dropna().y.values.reshape(-1,1)\n",
    "    X_predict = dataset[dataset.y.isna()].X.values.reshape(-1,1)\n",
    "    predict_index= dataset[dataset.y.isna()].index\n",
    "    \n",
    "    lr = LinearRegression().fit(X_train, y_train)\n",
    "    y_predict = lr.predict(X_predict).flatten()\n",
    "    prediction = pd.Series(data = y_predict, index = predict_index)\n",
    "    \n",
    "    region.plot(title = 'Предсказание для %s - %s' % (key['Block_Id'], key['Terr_Id']), \n",
    "                label='факт', figsize = (8,5))\n",
    "    prediction.plot(label = 'предсказание')\n",
    "    plt.legend()\n",
    "    plt.show()\n",
    "\n",
    "    break # разберемся пока с одной итерацией далее"
   ]
  },
  {
   "cell_type": "markdown",
   "metadata": {},
   "source": [
    "# Как измерить качество предсказания?\n",
    "__Regression Metrics:__\n",
    "+ Mean Squared Error (MSE)\n",
    "+ Root Mean Squared Error (RMSE)\n",
    "+ Mean Absolute Error (MAE)\n",
    "+ R Squared (R²)\n",
    "+ Adjusted R Squared (R²)\n",
    "+ Mean Square Percentage Error (MSPE)\n",
    "+ Mean Absolute Percentage Error (MAPE)\n",
    "+ Root Mean Squared Logarithmic Error (RMSLE)"
   ]
  },
  {
   "cell_type": "markdown",
   "metadata": {},
   "source": [
    "Например прогнозируем количество произведенных яиц на птицефабрике в следующем месяце: 14000\n",
    "По факту производится 15300\n",
    "Как посчитать насколько ошиблись?\n",
    "\n",
    "Самое простое вычесть из факта прогноз: 14000 - 15300 = -1300 (занизили прогноз на 1300)\n",
    "Но если бы строили прогноз по нескольким месяцам, то для оценки стоило бы взять среднюю погрешность.\n",
    "В таком случае отрицательные значения не позволят корректно вычислить среднее значение.\n",
    "Поэтому добавляем модуль в формулу расчета ошибки: |14000 - 15300| = 1300\n",
    "Так изобрели MAE (Mean Absolute Error)"
   ]
  },
  {
   "cell_type": "code",
   "execution_count": null,
   "metadata": {},
   "outputs": [],
   "source": [
    "Но 1300 это много или мало в целом для прогнозируемой величины? \n",
    "Посчитаем в процентном отношении: |14000/15300 -1| = 0.084 = 8.4% \n",
    "    (фактическое значение всегда внизу. мнемоника: факт он как фундамент - надёга, поэтому внизу)\n",
    "Если прогнозируем несколько месяцев, то тогда среднее значение по всем ошибкам приведет к оценке точности,\n",
    "которую называют MAPE - Mean Absolute Percent Error\n",
    "\n",
    "Если бы мы прогнозировали население городов и подбирали лучшую модель, то при использовании MAE, RMSE \n",
    "и прочих метрик основанных на абсолютных значениях модель хорошо бы прогнозировала Москву, а какой-нибудь мелкий\n",
    "город прогнозировался с большой ошибкой\n",
    "\n",
    "MAPE позволяет справедливо прогнозировать каждый город, т.к. мы ориентируемся на относительную точность модели\n",
    "для каждого набора данных\n",
    "    "
   ]
  },
  {
   "cell_type": "markdown",
   "metadata": {},
   "source": [
    "$$ Absolute Percent Error = \\left|\\frac{\\hat{y}_i}{y_i}-1\\right|$$\n",
    "\n",
    "$$MAPE = \\frac{100}{n} \\sum_i ^n \\frac{y_i - \\hat{y}_i}{y_i}$$"
   ]
  },
  {
   "cell_type": "code",
   "execution_count": 17,
   "metadata": {},
   "outputs": [
    {
     "data": {
      "text/plain": [
       "report_dt\n",
       "2017-11-30    0.029917\n",
       "2017-12-31    0.012432\n",
       "2018-01-31    0.009477\n",
       "2018-02-28    0.000314\n",
       "2018-03-31    0.003900\n",
       "2018-04-30    0.000347\n",
       "2018-05-31    0.051514\n",
       "2018-06-30    0.058145\n",
       "2018-07-31    0.063233\n",
       "2018-08-31    0.064541\n",
       "2018-09-30    0.049090\n",
       "2018-10-31    0.035045\n",
       "dtype: float64"
      ]
     },
     "execution_count": 17,
     "metadata": {},
     "output_type": "execute_result"
    }
   ],
   "source": [
    "abs(prediction/validation_split-1) # Absolute Percent Error для каждой точки прогнозируемой даты"
   ]
  },
  {
   "cell_type": "code",
   "execution_count": 18,
   "metadata": {},
   "outputs": [
    {
     "data": {
      "text/plain": [
       "0.03149646177301927"
      ]
     },
     "execution_count": 18,
     "metadata": {},
     "output_type": "execute_result"
    }
   ],
   "source": [
    "# MAPE\n",
    "abs(prediction/validation_split-1).mean() # относительная точность прогнозирования для одной группы "
   ]
  },
  {
   "cell_type": "markdown",
   "metadata": {},
   "source": [
    "# Выпускайте Кракена!"
   ]
  },
  {
   "cell_type": "code",
   "execution_count": 26,
   "metadata": {},
   "outputs": [
    {
     "data": {
      "text/html": [
       "<div>\n",
       "<style scoped>\n",
       "    .dataframe tbody tr th:only-of-type {\n",
       "        vertical-align: middle;\n",
       "    }\n",
       "\n",
       "    .dataframe tbody tr th {\n",
       "        vertical-align: top;\n",
       "    }\n",
       "\n",
       "    .dataframe thead th {\n",
       "        text-align: right;\n",
       "    }\n",
       "</style>\n",
       "<table border=\"1\" class=\"dataframe\">\n",
       "  <thead>\n",
       "    <tr style=\"text-align: right;\">\n",
       "      <th></th>\n",
       "      <th>actual</th>\n",
       "      <th>prediction</th>\n",
       "      <th>error</th>\n",
       "      <th>metric</th>\n",
       "      <th>Block_Id</th>\n",
       "      <th>Terr_Id</th>\n",
       "    </tr>\n",
       "    <tr>\n",
       "      <th>report_dt</th>\n",
       "      <th></th>\n",
       "      <th></th>\n",
       "      <th></th>\n",
       "      <th></th>\n",
       "      <th></th>\n",
       "      <th></th>\n",
       "    </tr>\n",
       "  </thead>\n",
       "  <tbody>\n",
       "    <tr>\n",
       "      <th>2017-11-30</th>\n",
       "      <td>2790377.979</td>\n",
       "      <td>2.706900e+06</td>\n",
       "      <td>0.029917</td>\n",
       "      <td>universalis</td>\n",
       "      <td>Альфа</td>\n",
       "      <td>A-713</td>\n",
       "    </tr>\n",
       "    <tr>\n",
       "      <th>2017-12-31</th>\n",
       "      <td>3239002.244</td>\n",
       "      <td>3.198733e+06</td>\n",
       "      <td>0.012432</td>\n",
       "      <td>universalis</td>\n",
       "      <td>Альфа</td>\n",
       "      <td>A-713</td>\n",
       "    </tr>\n",
       "    <tr>\n",
       "      <th>2018-01-31</th>\n",
       "      <td>2564333.464</td>\n",
       "      <td>2.588637e+06</td>\n",
       "      <td>0.009477</td>\n",
       "      <td>universalis</td>\n",
       "      <td>Альфа</td>\n",
       "      <td>A-713</td>\n",
       "    </tr>\n",
       "    <tr>\n",
       "      <th>2018-02-28</th>\n",
       "      <td>2497046.450</td>\n",
       "      <td>2.496262e+06</td>\n",
       "      <td>0.000314</td>\n",
       "      <td>universalis</td>\n",
       "      <td>Альфа</td>\n",
       "      <td>A-713</td>\n",
       "    </tr>\n",
       "    <tr>\n",
       "      <th>2018-03-31</th>\n",
       "      <td>3016259.965</td>\n",
       "      <td>3.028024e+06</td>\n",
       "      <td>0.003900</td>\n",
       "      <td>universalis</td>\n",
       "      <td>Альфа</td>\n",
       "      <td>A-713</td>\n",
       "    </tr>\n",
       "    <tr>\n",
       "      <th>2018-04-30</th>\n",
       "      <td>2919970.860</td>\n",
       "      <td>2.920985e+06</td>\n",
       "      <td>0.000347</td>\n",
       "      <td>universalis</td>\n",
       "      <td>Альфа</td>\n",
       "      <td>A-713</td>\n",
       "    </tr>\n",
       "    <tr>\n",
       "      <th>2018-05-31</th>\n",
       "      <td>3209237.245</td>\n",
       "      <td>3.043915e+06</td>\n",
       "      <td>0.051514</td>\n",
       "      <td>universalis</td>\n",
       "      <td>Альфа</td>\n",
       "      <td>A-713</td>\n",
       "    </tr>\n",
       "    <tr>\n",
       "      <th>2018-06-30</th>\n",
       "      <td>3356258.518</td>\n",
       "      <td>3.161109e+06</td>\n",
       "      <td>0.058145</td>\n",
       "      <td>universalis</td>\n",
       "      <td>Альфа</td>\n",
       "      <td>A-713</td>\n",
       "    </tr>\n",
       "    <tr>\n",
       "      <th>2018-07-31</th>\n",
       "      <td>3518274.188</td>\n",
       "      <td>3.295803e+06</td>\n",
       "      <td>0.063233</td>\n",
       "      <td>universalis</td>\n",
       "      <td>Альфа</td>\n",
       "      <td>A-713</td>\n",
       "    </tr>\n",
       "    <tr>\n",
       "      <th>2018-08-31</th>\n",
       "      <td>3570185.133</td>\n",
       "      <td>3.339761e+06</td>\n",
       "      <td>0.064541</td>\n",
       "      <td>universalis</td>\n",
       "      <td>Альфа</td>\n",
       "      <td>A-713</td>\n",
       "    </tr>\n",
       "    <tr>\n",
       "      <th>2018-09-30</th>\n",
       "      <td>3430887.236</td>\n",
       "      <td>3.262463e+06</td>\n",
       "      <td>0.049090</td>\n",
       "      <td>universalis</td>\n",
       "      <td>Альфа</td>\n",
       "      <td>A-713</td>\n",
       "    </tr>\n",
       "    <tr>\n",
       "      <th>2018-10-31</th>\n",
       "      <td>3464672.740</td>\n",
       "      <td>3.343253e+06</td>\n",
       "      <td>0.035045</td>\n",
       "      <td>universalis</td>\n",
       "      <td>Альфа</td>\n",
       "      <td>A-713</td>\n",
       "    </tr>\n",
       "  </tbody>\n",
       "</table>\n",
       "</div>"
      ],
      "text/plain": [
       "                 actual    prediction     error       metric Block_Id Terr_Id\n",
       "report_dt                                                                    \n",
       "2017-11-30  2790377.979  2.706900e+06  0.029917  universalis    Альфа   A-713\n",
       "2017-12-31  3239002.244  3.198733e+06  0.012432  universalis    Альфа   A-713\n",
       "2018-01-31  2564333.464  2.588637e+06  0.009477  universalis    Альфа   A-713\n",
       "2018-02-28  2497046.450  2.496262e+06  0.000314  universalis    Альфа   A-713\n",
       "2018-03-31  3016259.965  3.028024e+06  0.003900  universalis    Альфа   A-713\n",
       "2018-04-30  2919970.860  2.920985e+06  0.000347  universalis    Альфа   A-713\n",
       "2018-05-31  3209237.245  3.043915e+06  0.051514  universalis    Альфа   A-713\n",
       "2018-06-30  3356258.518  3.161109e+06  0.058145  universalis    Альфа   A-713\n",
       "2018-07-31  3518274.188  3.295803e+06  0.063233  universalis    Альфа   A-713\n",
       "2018-08-31  3570185.133  3.339761e+06  0.064541  universalis    Альфа   A-713\n",
       "2018-09-30  3430887.236  3.262463e+06  0.049090  universalis    Альфа   A-713\n",
       "2018-10-31  3464672.740  3.343253e+06  0.035045  universalis    Альфа   A-713"
      ]
     },
     "execution_count": 26,
     "metadata": {},
     "output_type": "execute_result"
    }
   ],
   "source": [
    "# вот такой ответ хочется получить на выходе\n",
    "validation_split.to_frame('actual')\\\n",
    "    .join(prediction.to_frame('prediction'))\\\n",
    "    .join(abs(prediction/validation_split-1).to_frame('error')).assign(**key)"
   ]
  },
  {
   "cell_type": "code",
   "execution_count": 28,
   "metadata": {},
   "outputs": [],
   "source": [
    "from sklearn.linear_model import LinearRegression\n",
    "\n",
    "predictions = []\n",
    "# итерируемся по сгруппированным данным\n",
    "for key, region in regions_data.groupby(group_columns):\n",
    "    key = dict(zip(group_columns, key)) # ключ конвертируем в словарь\n",
    "    \n",
    "    # преобразуем датафрейм\n",
    "    region = region[['report_dt','val']].set_index('report_dt').sort_index().squeeze()\n",
    "    \n",
    "    # чтобы проверить качество предсказания отделяем последние 12 месяцев из факта\n",
    "    validation_split = region.iloc[-12:]\n",
    "    # в обучающую выборку падают все точки, за исключением имеющихся в валидационной\n",
    "    train_split = region[~region.index.isin(validation_split.index)]\n",
    "    \n",
    "    dataset = country.to_frame('X').join(train_split.to_frame('y'))\n",
    "    X_train = dataset.dropna().X.values.reshape(-1,1)\n",
    "    y_train = dataset.dropna().y.values.reshape(-1,1)\n",
    "    X_predict = dataset[dataset.y.isna()].X.values.reshape(-1,1)\n",
    "    predict_index= dataset[dataset.y.isna()].index\n",
    "    \n",
    "    lr = LinearRegression().fit(X_train, y_train)\n",
    "    y_predict = lr.predict(X_predict).flatten()\n",
    "    prediction = pd.Series(data = y_predict, index = predict_index)\n",
    "    \n",
    "    result = validation_split.to_frame('actual')\\\n",
    "    .join(prediction.to_frame('prediction'))\\\n",
    "    .join(abs(prediction/validation_split-1).to_frame('error')).assign(**key)\n",
    "    \n",
    "    predictions += result.to_dict('r')    "
   ]
  },
  {
   "cell_type": "code",
   "execution_count": 42,
   "metadata": {},
   "outputs": [
    {
     "data": {
      "text/html": [
       "<div>\n",
       "<style scoped>\n",
       "    .dataframe tbody tr th:only-of-type {\n",
       "        vertical-align: middle;\n",
       "    }\n",
       "\n",
       "    .dataframe tbody tr th {\n",
       "        vertical-align: top;\n",
       "    }\n",
       "\n",
       "    .dataframe thead th {\n",
       "        text-align: right;\n",
       "    }\n",
       "</style>\n",
       "<table border=\"1\" class=\"dataframe\">\n",
       "  <thead>\n",
       "    <tr style=\"text-align: right;\">\n",
       "      <th></th>\n",
       "      <th>metric</th>\n",
       "      <th>Block_Id</th>\n",
       "      <th>Terr_Id</th>\n",
       "      <th>error</th>\n",
       "    </tr>\n",
       "  </thead>\n",
       "  <tbody>\n",
       "    <tr>\n",
       "      <th>0</th>\n",
       "      <td>universalis</td>\n",
       "      <td>Альфа</td>\n",
       "      <td>A-713</td>\n",
       "      <td>0.031496</td>\n",
       "    </tr>\n",
       "    <tr>\n",
       "      <th>1</th>\n",
       "      <td>universalis</td>\n",
       "      <td>Альфа</td>\n",
       "      <td>A-760</td>\n",
       "      <td>0.015332</td>\n",
       "    </tr>\n",
       "    <tr>\n",
       "      <th>2</th>\n",
       "      <td>universalis</td>\n",
       "      <td>Альфа</td>\n",
       "      <td>B-642</td>\n",
       "      <td>0.014832</td>\n",
       "    </tr>\n",
       "    <tr>\n",
       "      <th>3</th>\n",
       "      <td>universalis</td>\n",
       "      <td>Альфа</td>\n",
       "      <td>B-785</td>\n",
       "      <td>0.024319</td>\n",
       "    </tr>\n",
       "    <tr>\n",
       "      <th>4</th>\n",
       "      <td>universalis</td>\n",
       "      <td>Альфа</td>\n",
       "      <td>B-824</td>\n",
       "      <td>0.054348</td>\n",
       "    </tr>\n",
       "    <tr>\n",
       "      <th>...</th>\n",
       "      <td>...</td>\n",
       "      <td>...</td>\n",
       "      <td>...</td>\n",
       "      <td>...</td>\n",
       "    </tr>\n",
       "    <tr>\n",
       "      <th>83</th>\n",
       "      <td>universalis</td>\n",
       "      <td>Эта</td>\n",
       "      <td>D-651</td>\n",
       "      <td>0.018234</td>\n",
       "    </tr>\n",
       "    <tr>\n",
       "      <th>84</th>\n",
       "      <td>universalis</td>\n",
       "      <td>Эта</td>\n",
       "      <td>D-751</td>\n",
       "      <td>0.037173</td>\n",
       "    </tr>\n",
       "    <tr>\n",
       "      <th>85</th>\n",
       "      <td>universalis</td>\n",
       "      <td>Эта</td>\n",
       "      <td>E-846</td>\n",
       "      <td>0.014106</td>\n",
       "    </tr>\n",
       "    <tr>\n",
       "      <th>86</th>\n",
       "      <td>universalis</td>\n",
       "      <td>Эта</td>\n",
       "      <td>E-853</td>\n",
       "      <td>0.008730</td>\n",
       "    </tr>\n",
       "    <tr>\n",
       "      <th>87</th>\n",
       "      <td>universalis</td>\n",
       "      <td>Эта</td>\n",
       "      <td>F-834</td>\n",
       "      <td>0.022790</td>\n",
       "    </tr>\n",
       "  </tbody>\n",
       "</table>\n",
       "<p>88 rows × 4 columns</p>\n",
       "</div>"
      ],
      "text/plain": [
       "         metric Block_Id Terr_Id     error\n",
       "0   universalis    Альфа   A-713  0.031496\n",
       "1   universalis    Альфа   A-760  0.015332\n",
       "2   universalis    Альфа   B-642  0.014832\n",
       "3   universalis    Альфа   B-785  0.024319\n",
       "4   universalis    Альфа   B-824  0.054348\n",
       "..          ...      ...     ...       ...\n",
       "83  universalis      Эта   D-651  0.018234\n",
       "84  universalis      Эта   D-751  0.037173\n",
       "85  universalis      Эта   E-846  0.014106\n",
       "86  universalis      Эта   E-853  0.008730\n",
       "87  universalis      Эта   F-834  0.022790\n",
       "\n",
       "[88 rows x 4 columns]"
      ]
     },
     "execution_count": 42,
     "metadata": {},
     "output_type": "execute_result"
    }
   ],
   "source": [
    "predictions_df = pd.DataFrame(predictions).groupby(group_columns).error.mean().reset_index()\n",
    "predictions_df"
   ]
  },
  {
   "cell_type": "code",
   "execution_count": 66,
   "metadata": {},
   "outputs": [
    {
     "data": {
      "text/plain": [
       "<matplotlib.axes._subplots.AxesSubplot at 0x2449cf04070>"
      ]
     },
     "execution_count": 66,
     "metadata": {},
     "output_type": "execute_result"
    },
    {
     "data": {
      "image/png": "[encoded data removed]",
      "text/plain": [
       "<Figure size 432x288 with 1 Axes>"
      ]
     },
     "metadata": {},
     "output_type": "display_data"
    }
   ],
   "source": [
    "sns.boxplot(\n",
    "    y='Block_Id', \n",
    "    x='error',\n",
    "    data = predictions_df,  \n",
    "    showfliers = False # если убрать, то всё испортит одна плохая территория\n",
    ")"
   ]
  },
  {
   "cell_type": "code",
   "execution_count": 37,
   "metadata": {},
   "outputs": [
    {
     "data": {
      "text/plain": [
       "metric       Block_Id  Terr_Id\n",
       "universalis  Эта       E-853       0.008730\n",
       "             Бета      B-679       0.008986\n",
       "             Йота      C-720       0.009969\n",
       "             Тета      F-755       0.011461\n",
       "             Эпсилон   B-773       0.012038\n",
       "                                    ...    \n",
       "             Лямбда    F-850       0.078736\n",
       "             Бета      C-691       0.079551\n",
       "             Эпсилон   A-973       0.082604\n",
       "             Тета      B-791       0.093533\n",
       "             Эпсилон   D-946      13.832572\n",
       "Name: error, Length: 88, dtype: float64"
      ]
     },
     "execution_count": 37,
     "metadata": {},
     "output_type": "execute_result"
    }
   ],
   "source": [
    "pd.DataFrame(predictions).groupby(group_columns).error.mean().sort_values()"
   ]
  },
  {
   "cell_type": "code",
   "execution_count": 39,
   "metadata": {},
   "outputs": [
    {
     "data": {
      "text/plain": [
       "0.19052717178050918"
      ]
     },
     "execution_count": 39,
     "metadata": {},
     "output_type": "execute_result"
    }
   ],
   "source": [
    "pd.DataFrame(predictions).groupby(group_columns).error.mean().sort_values().mean()"
   ]
  },
  {
   "cell_type": "code",
   "execution_count": 41,
   "metadata": {},
   "outputs": [
    {
     "data": {
      "text/plain": [
       "0.029320368188855847"
      ]
     },
     "execution_count": 41,
     "metadata": {},
     "output_type": "execute_result"
    }
   ],
   "source": [
    "# разница между средним и медианой существенное! \n",
    "# (именно поэтому нужны глав.врачи с миллионными зарплатами, чтобы увеличивать среднюю зп в больнице)\n",
    "pd.DataFrame(predictions).groupby(group_columns).error.mean().sort_values().median()"
   ]
  },
  {
   "cell_type": "code",
   "execution_count": 26,
   "metadata": {},
   "outputs": [],
   "source": [
    "country.to_clipboard()"
   ]
  },
  {
   "cell_type": "code",
   "execution_count": 22,
   "metadata": {},
   "outputs": [],
   "source": [
    "#country.pct_change()"
   ]
  },
  {
   "cell_type": "code",
   "execution_count": 28,
   "metadata": {},
   "outputs": [
    {
     "data": {
      "text/plain": [
       "report_dt\n",
       "2014-03-31         NaN\n",
       "2014-04-30   -0.023922\n",
       "2014-05-31    0.089190\n",
       "2014-06-30    0.018908\n",
       "2014-07-31    0.076150\n",
       "2014-08-31    0.032620\n",
       "2014-09-30   -0.056888\n",
       "2014-10-31    0.078942\n",
       "2014-11-30   -0.001557\n",
       "2014-12-31    0.222802\n",
       "2015-01-31   -0.136584\n",
       "2015-02-28   -0.034801\n",
       "2015-03-31    0.128993\n",
       "2015-04-30    0.000816\n",
       "2015-05-31    0.012638\n",
       "2015-06-30    0.068668\n",
       "2015-07-31    0.056732\n",
       "2015-08-31    0.011879\n",
       "2015-09-30   -0.019160\n",
       "2015-10-31    0.068876\n",
       "2015-11-30   -0.015061\n",
       "2015-12-31    0.188613\n",
       "2016-01-31   -0.135897\n",
       "2016-02-28   -0.046219\n",
       "2016-03-31    0.156637\n",
       "2016-04-30   -0.006626\n",
       "2016-05-31    0.044746\n",
       "2016-06-30    0.022696\n",
       "2016-07-31    0.075428\n",
       "2016-08-31   -0.001052\n",
       "2016-09-30   -0.023439\n",
       "2016-10-31    0.077415\n",
       "2016-11-30   -0.002901\n",
       "2016-12-31    0.182892\n",
       "2017-01-31   -0.149422\n",
       "2017-02-28   -0.054327\n",
       "2017-03-31    0.173988\n",
       "2017-04-30   -0.004648\n",
       "2017-05-31    0.053955\n",
       "2017-06-30    0.018014\n",
       "2017-07-31    0.041511\n",
       "2017-08-31    0.015179\n",
       "2017-09-30   -0.019980\n",
       "2017-10-31    0.051990\n",
       "2017-11-30    0.004841\n",
       "2017-12-31    0.171350\n",
       "2018-01-31   -0.181459\n",
       "2018-02-28   -0.033565\n",
       "2018-03-31    0.199933\n",
       "2018-04-30   -0.033539\n",
       "2018-05-31    0.039855\n",
       "2018-06-30    0.036539\n",
       "2018-07-31    0.040515\n",
       "2018-08-31    0.012708\n",
       "2018-09-30   -0.022065\n",
       "2018-10-31    0.023582\n",
       "dtype: float64"
      ]
     },
     "execution_count": 28,
     "metadata": {},
     "output_type": "execute_result"
    }
   ],
   "source": [
    "country.to_frame('lag0')\\\n",
    "    .assign(lag1 = country.shift(1))\\\n",
    "    .apply(lambda x: x['lag0'] / x['lag1']-1, axis = 1)"
   ]
  }
 ],
 "metadata": {
  "kernelspec": {
   "display_name": "Python 3",
   "language": "python",
   "name": "python3"
  },
  "language_info": {
   "codemirror_mode": {
    "name": "ipython",
    "version": 3
   },
   "file_extension": ".py",
   "mimetype": "text/x-python",
   "name": "python",
   "nbconvert_exporter": "python",
   "pygments_lexer": "ipython3",
   "version": "3.8.1"
  }
 },
 "nbformat": 4,
 "nbformat_minor": 4
}
