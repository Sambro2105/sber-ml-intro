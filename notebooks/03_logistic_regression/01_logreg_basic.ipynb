{
 "cells": [
  {
   "cell_type": "code",
   "execution_count": null,
   "metadata": {},
   "outputs": [],
   "source": [
    "import pandas as pd\n",
    "import numpy as np\n"
   ]
  },
  {
   "cell_type": "code",
   "execution_count": null,
   "metadata": {},
   "outputs": [],
   "source": [
    "# Логистической регрессией решают задачи классификации. \n",
    "# Например, у нас есть 100 животных. Среди них попадаются либо кошки, либо собаки. \n",
    "# Нужно обучить компьютер научиться отличать кошек от собак\n",
    "\n",
    "# \"Кошка\", \"Собака\" - это категория.\n",
    "# Среди признаков нам могут быть даны масса тела, длина туловища, количество зубов, наличие\\отсутствие шерсти, размер носа и т.п. \n",
    "# В задачах ML такие признаки называются \"фичами\" от англ. \"feature\" (характеристика, признак, свойство)\n",
    "\n",
    "# Решить задачу классификации в данном случае - научить машину отличать кошек от собак по приведенным признакам."
   ]
  },
  {
   "cell_type": "markdown",
   "metadata": {},
   "source": [
    "# Задача на классификацию цветков Ириса"
   ]
  },
  {
   "cell_type": "markdown",
   "metadata": {},
   "source": [
    "Первая задача связана с определинием одного из трех видов Ириса:\n",
    "- Ирис щетинистый (Iris setosa)\n",
    "- Ирис виргинский (Iris virginica) \n",
    "- Ирис разноцветный (Iris versicolor):\n",
    "\n",
    "По четырем свойствам (длина\\ширина чашелистика и лепестков) нужно научиться отделять один вид от других\n",
    "\n",
    "Подробнее здесь: [Ирисы Фишера-Андерсона](https://ru.wikipedia.org/wiki/%D0%98%D1%80%D0%B8%D1%81%D1%8B_%D0%A4%D0%B8%D1%88%D0%B5%D1%80%D0%B0)"
   ]
  },
  {
   "cell_type": "code",
   "execution_count": null,
   "metadata": {},
   "outputs": [],
   "source": [
    "iris = pd.read_csv('../../data/raw/iris.csv')\n",
    "iris.head()\n",
    "# столцбы:\n",
    "# sepal_length, sepal_width, petal_length, petal_width - фичи \n",
    "# species - категория, которую и надо будет научиться предсказывать по фичам"
   ]
  },
  {
   "cell_type": "markdown",
   "metadata": {},
   "source": [
    "<img src=\"../../assets/iris-species.png\">"
   ]
  },
  {
   "cell_type": "code",
   "execution_count": null,
   "metadata": {},
   "outputs": [],
   "source": [
    "# таблица iris содержит равное количество объектов каждой категории\n",
    "print('Всего объектов в датасете:', iris.shape[0],'\\n')\n",
    "\n",
    "print('Количество объектов для каждой категории:')\n",
    "print(iris.species.value_counts())"
   ]
  },
  {
   "cell_type": "code",
   "execution_count": null,
   "metadata": {},
   "outputs": [],
   "source": [
    "# в данном датасете категория - это строка. \n",
    "#Логистическая регрессия для категорий не принимает строки\n",
    "# Решение - каждой уникальной категории присвоить какой-то номер\n",
    "iris.species = iris.species.astype('category') # конвертируем столбец в категориальный тип\n",
    "iris['species_code'] = iris.species.cat.codes # .cat.codes позволяет получить сгенерированные номера категории"
   ]
  },
  {
   "cell_type": "markdown",
   "metadata": {},
   "source": [
    "Для первого знакомства с логистической регрессией разбиение на обучающую\\тестовую выборку максимально упрощено."
   ]
  },
  {
   "cell_type": "code",
   "execution_count": null,
   "metadata": {},
   "outputs": [],
   "source": [
    "test = iris.sample(frac = .2) # \"топорным\" способом отделяем в тестовую выборку случаные 20% от всего датасета\n",
    "train = iris.drop(test.index) # в обучающую выборку помещаем те строки датасета, которые не вошли в тестовую выборку"
   ]
  },
  {
   "cell_type": "code",
   "execution_count": null,
   "metadata": {},
   "outputs": [],
   "source": [
    "# Простая визуализация разбиения категорий на обучающую\\тестовую выборку\n",
    "pd.concat([\n",
    "    train.species.value_counts().to_frame('train'),\n",
    "    test.species.value_counts().to_frame('test')\n",
    "], axis = 1)"
   ]
  },
  {
   "cell_type": "code",
   "execution_count": null,
   "metadata": {},
   "outputs": [],
   "source": [
    "# формируем выборки под понятный для логистической регрессии объекты.\n",
    "# посмотрите, что там лежит. \n",
    "# Логистическая регрессия прекрасно понимает входящие данные от пандаса (в отличие от линейной регрессии)\n",
    "train_X = train[['sepal_length', 'sepal_width', 'petal_length', 'petal_width']]\n",
    "test_X = test[['sepal_length', 'sepal_width', 'petal_length', 'petal_width']]\n",
    "\n",
    "train_y = train.species_code\n",
    "test_y = test.species_code"
   ]
  },
  {
   "cell_type": "markdown",
   "metadata": {},
   "source": [
    "# Обучаем модель"
   ]
  },
  {
   "cell_type": "markdown",
   "metadata": {},
   "source": [
    "<img src=\"../../assets/fitpredict.jpg\">"
   ]
  },
  {
   "cell_type": "code",
   "execution_count": null,
   "metadata": {},
   "outputs": [],
   "source": [
    "from sklearn.linear_model import LogisticRegression\n",
    "lr = LogisticRegression().fit(train_X, train_y)\n",
    "predict_y = lr.predict(test_X)"
   ]
  },
  {
   "cell_type": "code",
   "execution_count": null,
   "metadata": {},
   "outputs": [],
   "source": [
    "print(test_y.values) # Тестовая выборка\n",
    "print(predict_y) # то, что напрогнозировали"
   ]
  },
  {
   "cell_type": "code",
   "execution_count": null,
   "metadata": {},
   "outputs": [],
   "source": [
    "Если все правильно отработало, то предсказанные категории (их всего три: 0,1,2) будут почти или полностью совпадать с тестовой выборкой.\n",
    "Конечно же глазками никто не смотрит совпадение категорий и используют различного рода метрики, матрицы и другие инструменты.\n",
    "Но этот простейший пример позволяет понять минимум, нужный для умения предсказывать категориальные данные\n"
   ]
  }
 ],
 "metadata": {
  "kernelspec": {
   "display_name": "Python 3",
   "language": "python",
   "name": "python3"
  },
  "language_info": {
   "codemirror_mode": {
    "name": "ipython",
    "version": 3
   },
   "file_extension": ".py",
   "mimetype": "text/x-python",
   "name": "python",
   "nbconvert_exporter": "python",
   "pygments_lexer": "ipython3",
   "version": "3.8.1"
  }
 },
 "nbformat": 4,
 "nbformat_minor": 4
}
