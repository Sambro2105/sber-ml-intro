{
 "cells": [
  {
   "cell_type": "markdown",
   "metadata": {},
   "source": [
    "### Import the relevant libraries"
   ]
  },
  {
   "cell_type": "code",
   "execution_count": 2,
   "metadata": {},
   "outputs": [],
   "source": [
    "import numpy as np\n",
    "import tensorflow as tf\n",
    "from sklearn.datasets import load_digits\n",
    "from sklearn.model_selection import train_test_split\n",
    "import matplotlib.pyplot as plt\n",
    "import pandas as pd\n",
    "import seaborn as sns\n",
    "sns.set()"
   ]
  },
  {
   "cell_type": "markdown",
   "metadata": {},
   "source": [
    "### Data"
   ]
  },
  {
   "cell_type": "code",
   "execution_count": 3,
   "metadata": {},
   "outputs": [
    {
     "name": "stdout",
     "output_type": "stream",
     "text": [
      "Train inputs shape: (1293, 64)\n",
      "Train targets shape: 1293\n",
      "Test inputs shape: (360, 64)\n",
      "Test targets shape: 360\n",
      "Validation inputs shape: (144, 64)\n",
      "Validation targets shape: 144\n"
     ]
    }
   ],
   "source": [
    "dig = load_digits()\n",
    "train_inputs, test_inputs, train_targets, test_targets = train_test_split(dig.data, dig.target, \n",
    "                                                    test_size = 0.2, random_state=42)\n",
    "\n",
    "train_inputs, validation_inputs, train_targets, validation_targets = train_test_split(train_inputs, train_targets, \n",
    "                                                    test_size = 0.1, random_state=42)\n",
    "\n",
    "print(f'Train inputs shape: {train_inputs.shape}\\n\\\n",
    "Train targets shape: {train_targets.shape[0]}\\n\\\n",
    "Test inputs shape: {test_inputs.shape}\\n\\\n",
    "Test targets shape: {test_targets.shape[0]}\\n\\\n",
    "Validation inputs shape: {validation_inputs.shape}\\n\\\n",
    "Validation targets shape: {validation_targets.shape[0]}')"
   ]
  },
  {
   "cell_type": "code",
   "execution_count": 4,
   "metadata": {},
   "outputs": [
    {
     "data": {
      "text/plain": [
       "\".. _digits_dataset:\\n\\nOptical recognition of handwritten digits dataset\\n--------------------------------------------------\\n\\n**Data Set Characteristics:**\\n\\n    :Number of Instances: 5620\\n    :Number of Attributes: 64\\n    :Attribute Information: 8x8 image of integer pixels in the range 0..16.\\n    :Missing Attribute Values: None\\n    :Creator: E. Alpaydin (alpaydin '@' boun.edu.tr)\\n    :Date: July; 1998\\n\\nThis is a copy of the test set of the UCI ML hand-written digits datasets\\nhttps://archive.ics.uci.edu/ml/datasets/Optical+Recognition+of+Handwritten+Digits\\n\\nThe data set contains images of hand-written digits: 10 classes where\\neach class refers to a digit.\\n\\nPreprocessing programs made available by NIST were used to extract\\nnormalized bitmaps of handwritten digits from a preprinted form. From a\\ntotal of 43 people, 30 contributed to the training set and different 13\\nto the test set. 32x32 bitmaps are divided into nonoverlapping blocks of\\n4x4 and the number of on pixels are counted in each block. This generates\\nan input matrix of 8x8 where each element is an integer in the range\\n0..16. This reduces dimensionality and gives invariance to small\\ndistortions.\\n\\nFor info on NIST preprocessing routines, see M. D. Garris, J. L. Blue, G.\\nT. Candela, D. L. Dimmick, J. Geist, P. J. Grother, S. A. Janet, and C.\\nL. Wilson, NIST Form-Based Handprint Recognition System, NISTIR 5469,\\n1994.\\n\\n.. topic:: References\\n\\n  - C. Kaynak (1995) Methods of Combining Multiple Classifiers and Their\\n    Applications to Handwritten Digit Recognition, MSc Thesis, Institute of\\n    Graduate Studies in Science and Engineering, Bogazici University.\\n  - E. Alpaydin, C. Kaynak (1998) Cascading Classifiers, Kybernetika.\\n  - Ken Tang and Ponnuthurai N. Suganthan and Xi Yao and A. Kai Qin.\\n    Linear dimensionalityreduction using relevance weighted LDA. School of\\n    Electrical and Electronic Engineering Nanyang Technological University.\\n    2005.\\n  - Claudio Gentile. A New Approximate Maximal Margin Classification\\n    Algorithm. NIPS. 2000.\""
      ]
     },
     "execution_count": 4,
     "metadata": {},
     "output_type": "execute_result"
    }
   ],
   "source": [
    "dig['DESCR']"
   ]
  },
  {
   "cell_type": "code",
   "execution_count": 7,
   "metadata": {},
   "outputs": [
    {
     "data": {
      "text/plain": [
       "False"
      ]
     },
     "execution_count": 7,
     "metadata": {},
     "output_type": "execute_result"
    }
   ],
   "source": [
    "pd.DataFrame(train_inputs).isnull().values.any()"
   ]
  },
  {
   "cell_type": "code",
   "execution_count": 9,
   "metadata": {},
   "outputs": [
    {
     "data": {
      "text/plain": [
       "array([0, 1, 2, 3, 4, 5, 6, 7, 8, 9])"
      ]
     },
     "execution_count": 9,
     "metadata": {},
     "output_type": "execute_result"
    }
   ],
   "source": [
    "dig.target_names"
   ]
  },
  {
   "cell_type": "markdown",
   "metadata": {},
   "source": [
    "### Model\n",
    "Outline, optimizers, loss, early stopping and training"
   ]
  },
  {
   "cell_type": "code",
   "execution_count": 132,
   "metadata": {},
   "outputs": [
    {
     "name": "stdout",
     "output_type": "stream",
     "text": [
      "Train on 1293 samples, validate on 144 samples\n",
      "Epoch 1/100\n",
      "1293/1293 - 0s - loss: 1.8436 - accuracy: 0.4965 - val_loss: 1.3909 - val_accuracy: 0.7639\n",
      "Epoch 2/100\n",
      "1293/1293 - 0s - loss: 1.0842 - accuracy: 0.8577 - val_loss: 0.8598 - val_accuracy: 0.8542\n",
      "Epoch 3/100\n",
      "1293/1293 - 0s - loss: 0.6900 - accuracy: 0.9188 - val_loss: 0.5837 - val_accuracy: 0.9444\n",
      "Epoch 4/100\n",
      "1293/1293 - 0s - loss: 0.4676 - accuracy: 0.9536 - val_loss: 0.4064 - val_accuracy: 0.9792\n",
      "Epoch 5/100\n",
      "1293/1293 - 0s - loss: 0.3375 - accuracy: 0.9629 - val_loss: 0.3083 - val_accuracy: 0.9722\n",
      "Epoch 6/100\n",
      "1293/1293 - 0s - loss: 0.2581 - accuracy: 0.9683 - val_loss: 0.2453 - val_accuracy: 0.9792\n",
      "Epoch 7/100\n",
      "1293/1293 - 0s - loss: 0.1983 - accuracy: 0.9760 - val_loss: 0.2086 - val_accuracy: 0.9722\n",
      "Epoch 8/100\n",
      "1293/1293 - 0s - loss: 0.1635 - accuracy: 0.9760 - val_loss: 0.1800 - val_accuracy: 0.9722\n",
      "Epoch 9/100\n",
      "1293/1293 - 0s - loss: 0.1359 - accuracy: 0.9853 - val_loss: 0.1607 - val_accuracy: 0.9722\n",
      "Epoch 10/100\n",
      "1293/1293 - 0s - loss: 0.1145 - accuracy: 0.9861 - val_loss: 0.1500 - val_accuracy: 0.9792\n",
      "Epoch 11/100\n",
      "1293/1293 - 0s - loss: 0.0999 - accuracy: 0.9915 - val_loss: 0.1218 - val_accuracy: 0.9861\n",
      "Epoch 12/100\n",
      "1293/1293 - 0s - loss: 0.0866 - accuracy: 0.9907 - val_loss: 0.1188 - val_accuracy: 0.9792\n",
      "Epoch 13/100\n",
      "1293/1293 - 0s - loss: 0.0748 - accuracy: 0.9946 - val_loss: 0.1066 - val_accuracy: 0.9792\n",
      "Epoch 14/100\n",
      "1293/1293 - 0s - loss: 0.0669 - accuracy: 0.9954 - val_loss: 0.0972 - val_accuracy: 0.9861\n",
      "Epoch 15/100\n",
      "1293/1293 - 0s - loss: 0.0590 - accuracy: 0.9954 - val_loss: 0.0930 - val_accuracy: 0.9861\n",
      "Epoch 16/100\n",
      "1293/1293 - 0s - loss: 0.0524 - accuracy: 0.9961 - val_loss: 0.0942 - val_accuracy: 0.9722\n",
      "Epoch 17/100\n",
      "1293/1293 - 0s - loss: 0.0463 - accuracy: 0.9969 - val_loss: 0.0832 - val_accuracy: 0.9861\n",
      "Epoch 18/100\n",
      "1293/1293 - 0s - loss: 0.0410 - accuracy: 0.9969 - val_loss: 0.0769 - val_accuracy: 0.9861\n",
      "Epoch 19/100\n",
      "1293/1293 - 0s - loss: 0.0389 - accuracy: 0.9977 - val_loss: 0.0760 - val_accuracy: 0.9861\n",
      "Epoch 20/100\n",
      "1293/1293 - 0s - loss: 0.0343 - accuracy: 0.9977 - val_loss: 0.0693 - val_accuracy: 0.9931\n",
      "Epoch 21/100\n",
      "1293/1293 - 0s - loss: 0.0308 - accuracy: 0.9985 - val_loss: 0.0692 - val_accuracy: 0.9861\n",
      "Epoch 22/100\n",
      "1293/1293 - 0s - loss: 0.0280 - accuracy: 0.9985 - val_loss: 0.0663 - val_accuracy: 0.9861\n",
      "Epoch 23/100\n",
      "1293/1293 - 0s - loss: 0.0253 - accuracy: 0.9985 - val_loss: 0.0615 - val_accuracy: 0.9931\n",
      "Epoch 24/100\n",
      "1293/1293 - 0s - loss: 0.0231 - accuracy: 0.9992 - val_loss: 0.0616 - val_accuracy: 0.9931\n",
      "Epoch 25/100\n",
      "1293/1293 - 0s - loss: 0.0215 - accuracy: 1.0000 - val_loss: 0.0602 - val_accuracy: 0.9931\n",
      "Epoch 26/100\n",
      "1293/1293 - 0s - loss: 0.0199 - accuracy: 0.9992 - val_loss: 0.0549 - val_accuracy: 0.9931\n",
      "Epoch 27/100\n",
      "1293/1293 - 0s - loss: 0.0183 - accuracy: 0.9992 - val_loss: 0.0551 - val_accuracy: 0.9931\n",
      "Epoch 28/100\n",
      "1293/1293 - 0s - loss: 0.0181 - accuracy: 0.9992 - val_loss: 0.0590 - val_accuracy: 0.9931\n"
     ]
    },
    {
     "data": {
      "text/plain": [
       "<tensorflow.python.keras.callbacks.History at 0x40207f08>"
      ]
     },
     "execution_count": 132,
     "metadata": {},
     "output_type": "execute_result"
    }
   ],
   "source": [
    "# Set the input and output sizes\n",
    "input_size = train_inputs.shape[1]\n",
    "output_size = 10\n",
    "# Use same hidden layer size for both hidden layers. Not a necessity.\n",
    "hidden_layer_size = 75\n",
    "    \n",
    "# define how the model will look like\n",
    "model = tf.keras.Sequential([\n",
    "    # tf.keras.layers.Dense is basically implementing: output = activation(dot(input, weight) + bias)\n",
    "    # it takes several arguments, but the most important ones for us are the hidden_layer_size and the activation function\n",
    "    tf.keras.layers.Dense(hidden_layer_size, activation='relu'), # 1st hidden layer\n",
    "    tf.keras.layers.Dense(hidden_layer_size, activation='sigmoid'), # 2nd hidden layer\n",
    "    # the final layer is no different, we just make sure to activate it with softmax\n",
    "    tf.keras.layers.Dense(output_size, activation='softmax') # output layer\n",
    "])\n",
    "\n",
    "\n",
    "### Choose the optimizer and the loss function\n",
    "\n",
    "# we define the optimizer we'd like to use, \n",
    "# the loss function, \n",
    "# and the metrics we are interested in obtaining at each iteration\n",
    "model.compile(optimizer='adam', loss='sparse_categorical_crossentropy', metrics=['accuracy'])\n",
    "\n",
    "### Training\n",
    "# That's where we train the model we have built.\n",
    "\n",
    "# set the batch size\n",
    "batch_size = 35\n",
    "\n",
    "# set a maximum number of training epochs\n",
    "max_epochs = 100\n",
    "\n",
    "# set an early stopping mechanism\n",
    "# let's set patience=2, to be a bit tolerant against random validation loss increases\n",
    "early_stopping = tf.keras.callbacks.EarlyStopping(patience=2)\n",
    "\n",
    "# fit the model\n",
    "# note that this time the train, validation and test data are not iterable\n",
    "model.fit(train_inputs, # train inputs\n",
    "          train_targets, # train targets\n",
    "          batch_size=batch_size, # batch size\n",
    "          epochs=max_epochs, # epochs that we will train for (assuming early stopping doesn't kick in)\n",
    "          # callbacks are functions called by a task when a task is completed\n",
    "          # task here is to check if val_loss is increasing\n",
    "          callbacks=[early_stopping], # early stopping\n",
    "          validation_data=(validation_inputs, validation_targets), # validation data\n",
    "          verbose = 2 # making sure we get enough information about the training process\n",
    "          )  "
   ]
  },
  {
   "cell_type": "markdown",
   "metadata": {},
   "source": [
    "### Evaluating model"
   ]
  },
  {
   "cell_type": "code",
   "execution_count": 133,
   "metadata": {},
   "outputs": [
    {
     "name": "stdout",
     "output_type": "stream",
     "text": [
      "360/360 [==============================] - 0s 31us/sample - loss: 0.0752 - accuracy: 0.9750\n"
     ]
    }
   ],
   "source": [
    "test_loss, test_accuracy = model.evaluate(test_inputs, test_targets)"
   ]
  },
  {
   "cell_type": "code",
   "execution_count": 134,
   "metadata": {},
   "outputs": [
    {
     "name": "stdout",
     "output_type": "stream",
     "text": [
      "\n",
      "Test loss: 0.08. Test accuracy: 97.50%\n"
     ]
    }
   ],
   "source": [
    "print('\\nTest loss: {0:.2f}. Test accuracy: {1:.2f}%'.format(test_loss, test_accuracy*100.))"
   ]
  }
 ],
 "metadata": {
  "kernelspec": {
   "display_name": "Python 3",
   "language": "python",
   "name": "python3"
  },
  "language_info": {
   "codemirror_mode": {
    "name": "ipython",
    "version": 3
   },
   "file_extension": ".py",
   "mimetype": "text/x-python",
   "name": "python",
   "nbconvert_exporter": "python",
   "pygments_lexer": "ipython3",
   "version": "3.7.4"
  }
 },
 "nbformat": 4,
 "nbformat_minor": 4
}
