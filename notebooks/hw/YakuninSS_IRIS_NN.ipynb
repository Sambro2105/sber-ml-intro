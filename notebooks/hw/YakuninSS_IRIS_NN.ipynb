{
 "cells": [
  {
   "cell_type": "markdown",
   "metadata": {},
   "source": [
    "### Import the relevant libraries"
   ]
  },
  {
   "cell_type": "code",
   "execution_count": 51,
   "metadata": {},
   "outputs": [],
   "source": [
    "import numpy as np\n",
    "import tensorflow as tf\n",
    "from sklearn.datasets import load_iris\n",
    "from sklearn.model_selection import train_test_split\n",
    "import matplotlib.pyplot as plt\n",
    "import pandas as pd\n",
    "import seaborn as sns\n",
    "import keras\n",
    "sns.set()"
   ]
  },
  {
   "cell_type": "markdown",
   "metadata": {},
   "source": [
    "### Data"
   ]
  },
  {
   "cell_type": "code",
   "execution_count": 52,
   "metadata": {},
   "outputs": [
    {
     "name": "stdout",
     "output_type": "stream",
     "text": [
      "Train inputs shape: (102, 4)\n",
      "Train targets shape: 102\n",
      "Test inputs shape: (30, 4)\n",
      "Test targets shape: 30\n",
      "Validation inputs shape: (18, 4)\n",
      "Validation targets shape: 18\n"
     ]
    }
   ],
   "source": [
    "dig = load_iris()\n",
    "train_inputs, test_inputs, train_targets, test_targets = train_test_split(dig.data, dig.target, \n",
    "                                                    test_size = 0.2, random_state=42)\n",
    "\n",
    "train_inputs, validation_inputs, train_targets, validation_targets = train_test_split(train_inputs, train_targets, \n",
    "                                                    test_size = 0.15, random_state=42)\n",
    "\n",
    "print(f'Train inputs shape: {train_inputs.shape}\\n\\\n",
    "Train targets shape: {train_targets.shape[0]}\\n\\\n",
    "Test inputs shape: {test_inputs.shape}\\n\\\n",
    "Test targets shape: {test_targets.shape[0]}\\n\\\n",
    "Validation inputs shape: {validation_inputs.shape}\\n\\\n",
    "Validation targets shape: {validation_targets.shape[0]}')"
   ]
  },
  {
   "cell_type": "code",
   "execution_count": 57,
   "metadata": {},
   "outputs": [],
   "source": [
    "pd.Series(test_targets).to_clipboard(index=False)"
   ]
  },
  {
   "cell_type": "code",
   "execution_count": 3,
   "metadata": {},
   "outputs": [
    {
     "data": {
      "text/plain": [
       "'.. _iris_dataset:\\n\\nIris plants dataset\\n--------------------\\n\\n**Data Set Characteristics:**\\n\\n    :Number of Instances: 150 (50 in each of three classes)\\n    :Number of Attributes: 4 numeric, predictive attributes and the class\\n    :Attribute Information:\\n        - sepal length in cm\\n        - sepal width in cm\\n        - petal length in cm\\n        - petal width in cm\\n        - class:\\n                - Iris-Setosa\\n                - Iris-Versicolour\\n                - Iris-Virginica\\n                \\n    :Summary Statistics:\\n\\n    ============== ==== ==== ======= ===== ====================\\n                    Min  Max   Mean    SD   Class Correlation\\n    ============== ==== ==== ======= ===== ====================\\n    sepal length:   4.3  7.9   5.84   0.83    0.7826\\n    sepal width:    2.0  4.4   3.05   0.43   -0.4194\\n    petal length:   1.0  6.9   3.76   1.76    0.9490  (high!)\\n    petal width:    0.1  2.5   1.20   0.76    0.9565  (high!)\\n    ============== ==== ==== ======= ===== ====================\\n\\n    :Missing Attribute Values: None\\n    :Class Distribution: 33.3% for each of 3 classes.\\n    :Creator: R.A. Fisher\\n    :Donor: Michael Marshall (MARSHALL%PLU@io.arc.nasa.gov)\\n    :Date: July, 1988\\n\\nThe famous Iris database, first used by Sir R.A. Fisher. The dataset is taken\\nfrom Fisher\\'s paper. Note that it\\'s the same as in R, but not as in the UCI\\nMachine Learning Repository, which has two wrong data points.\\n\\nThis is perhaps the best known database to be found in the\\npattern recognition literature.  Fisher\\'s paper is a classic in the field and\\nis referenced frequently to this day.  (See Duda & Hart, for example.)  The\\ndata set contains 3 classes of 50 instances each, where each class refers to a\\ntype of iris plant.  One class is linearly separable from the other 2; the\\nlatter are NOT linearly separable from each other.\\n\\n.. topic:: References\\n\\n   - Fisher, R.A. \"The use of multiple measurements in taxonomic problems\"\\n     Annual Eugenics, 7, Part II, 179-188 (1936); also in \"Contributions to\\n     Mathematical Statistics\" (John Wiley, NY, 1950).\\n   - Duda, R.O., & Hart, P.E. (1973) Pattern Classification and Scene Analysis.\\n     (Q327.D83) John Wiley & Sons.  ISBN 0-471-22361-1.  See page 218.\\n   - Dasarathy, B.V. (1980) \"Nosing Around the Neighborhood: A New System\\n     Structure and Classification Rule for Recognition in Partially Exposed\\n     Environments\".  IEEE Transactions on Pattern Analysis and Machine\\n     Intelligence, Vol. PAMI-2, No. 1, 67-71.\\n   - Gates, G.W. (1972) \"The Reduced Nearest Neighbor Rule\".  IEEE Transactions\\n     on Information Theory, May 1972, 431-433.\\n   - See also: 1988 MLC Proceedings, 54-64.  Cheeseman et al\"s AUTOCLASS II\\n     conceptual clustering system finds 3 classes in the data.\\n   - Many, many more ...'"
      ]
     },
     "execution_count": 3,
     "metadata": {},
     "output_type": "execute_result"
    }
   ],
   "source": [
    "dig['DESCR']"
   ]
  },
  {
   "cell_type": "code",
   "execution_count": 3,
   "metadata": {},
   "outputs": [
    {
     "data": {
      "text/plain": [
       "['sepal length', 'sepal width', 'petal length', 'petal width']"
      ]
     },
     "execution_count": 3,
     "metadata": {},
     "output_type": "execute_result"
    }
   ],
   "source": [
    "columns = [name[:-5] for name in dig.feature_names]\n",
    "columns"
   ]
  },
  {
   "cell_type": "code",
   "execution_count": 4,
   "metadata": {},
   "outputs": [
    {
     "data": {
      "text/html": [
       "<div>\n",
       "<style scoped>\n",
       "    .dataframe tbody tr th:only-of-type {\n",
       "        vertical-align: middle;\n",
       "    }\n",
       "\n",
       "    .dataframe tbody tr th {\n",
       "        vertical-align: top;\n",
       "    }\n",
       "\n",
       "    .dataframe thead th {\n",
       "        text-align: right;\n",
       "    }\n",
       "</style>\n",
       "<table border=\"1\" class=\"dataframe\">\n",
       "  <thead>\n",
       "    <tr style=\"text-align: right;\">\n",
       "      <th></th>\n",
       "      <th>sepal length</th>\n",
       "      <th>sepal width</th>\n",
       "      <th>petal length</th>\n",
       "      <th>petal width</th>\n",
       "    </tr>\n",
       "  </thead>\n",
       "  <tbody>\n",
       "    <tr>\n",
       "      <td>0</td>\n",
       "      <td>5.7</td>\n",
       "      <td>2.6</td>\n",
       "      <td>3.5</td>\n",
       "      <td>1.0</td>\n",
       "    </tr>\n",
       "    <tr>\n",
       "      <td>1</td>\n",
       "      <td>4.9</td>\n",
       "      <td>3.0</td>\n",
       "      <td>1.4</td>\n",
       "      <td>0.2</td>\n",
       "    </tr>\n",
       "    <tr>\n",
       "      <td>2</td>\n",
       "      <td>5.5</td>\n",
       "      <td>2.5</td>\n",
       "      <td>4.0</td>\n",
       "      <td>1.3</td>\n",
       "    </tr>\n",
       "    <tr>\n",
       "      <td>3</td>\n",
       "      <td>5.4</td>\n",
       "      <td>3.0</td>\n",
       "      <td>4.5</td>\n",
       "      <td>1.5</td>\n",
       "    </tr>\n",
       "    <tr>\n",
       "      <td>4</td>\n",
       "      <td>4.8</td>\n",
       "      <td>3.4</td>\n",
       "      <td>1.9</td>\n",
       "      <td>0.2</td>\n",
       "    </tr>\n",
       "    <tr>\n",
       "      <td>...</td>\n",
       "      <td>...</td>\n",
       "      <td>...</td>\n",
       "      <td>...</td>\n",
       "      <td>...</td>\n",
       "    </tr>\n",
       "    <tr>\n",
       "      <td>97</td>\n",
       "      <td>7.4</td>\n",
       "      <td>2.8</td>\n",
       "      <td>6.1</td>\n",
       "      <td>1.9</td>\n",
       "    </tr>\n",
       "    <tr>\n",
       "      <td>98</td>\n",
       "      <td>5.4</td>\n",
       "      <td>3.7</td>\n",
       "      <td>1.5</td>\n",
       "      <td>0.2</td>\n",
       "    </tr>\n",
       "    <tr>\n",
       "      <td>99</td>\n",
       "      <td>6.6</td>\n",
       "      <td>2.9</td>\n",
       "      <td>4.6</td>\n",
       "      <td>1.3</td>\n",
       "    </tr>\n",
       "    <tr>\n",
       "      <td>100</td>\n",
       "      <td>5.0</td>\n",
       "      <td>3.3</td>\n",
       "      <td>1.4</td>\n",
       "      <td>0.2</td>\n",
       "    </tr>\n",
       "    <tr>\n",
       "      <td>101</td>\n",
       "      <td>4.9</td>\n",
       "      <td>3.6</td>\n",
       "      <td>1.4</td>\n",
       "      <td>0.1</td>\n",
       "    </tr>\n",
       "  </tbody>\n",
       "</table>\n",
       "<p>102 rows × 4 columns</p>\n",
       "</div>"
      ],
      "text/plain": [
       "     sepal length  sepal width  petal length  petal width\n",
       "0             5.7          2.6           3.5          1.0\n",
       "1             4.9          3.0           1.4          0.2\n",
       "2             5.5          2.5           4.0          1.3\n",
       "3             5.4          3.0           4.5          1.5\n",
       "4             4.8          3.4           1.9          0.2\n",
       "..            ...          ...           ...          ...\n",
       "97            7.4          2.8           6.1          1.9\n",
       "98            5.4          3.7           1.5          0.2\n",
       "99            6.6          2.9           4.6          1.3\n",
       "100           5.0          3.3           1.4          0.2\n",
       "101           4.9          3.6           1.4          0.1\n",
       "\n",
       "[102 rows x 4 columns]"
      ]
     },
     "execution_count": 4,
     "metadata": {},
     "output_type": "execute_result"
    }
   ],
   "source": [
    "iris = pd.DataFrame(train_inputs, columns=columns)\n",
    "iris"
   ]
  },
  {
   "cell_type": "code",
   "execution_count": 5,
   "metadata": {},
   "outputs": [
    {
     "data": {
      "text/plain": [
       "False"
      ]
     },
     "execution_count": 5,
     "metadata": {},
     "output_type": "execute_result"
    }
   ],
   "source": [
    "iris.isnull().values.any()"
   ]
  },
  {
   "cell_type": "code",
   "execution_count": 7,
   "metadata": {},
   "outputs": [
    {
     "data": {
      "text/plain": [
       "<seaborn.axisgrid.PairGrid at 0x10bd8708>"
      ]
     },
     "execution_count": 7,
     "metadata": {},
     "output_type": "execute_result"
    },
    {
     "data": {
      "image/png": "[encoded data removed]",
      "text/plain": [
       "<Figure size 720x720 with 20 Axes>"
      ]
     },
     "metadata": {
      "needs_background": "light"
     },
     "output_type": "display_data"
    }
   ],
   "source": [
    "sns.pairplot(iris)"
   ]
  },
  {
   "cell_type": "markdown",
   "metadata": {},
   "source": [
    "### Model\n",
    "Outline, optimizers, loss, early stopping and training"
   ]
  },
  {
   "cell_type": "code",
   "execution_count": 29,
   "metadata": {},
   "outputs": [
    {
     "name": "stdout",
     "output_type": "stream",
     "text": [
      "Train on 102 samples, validate on 18 samples\n",
      "Epoch 1/200\n",
      "102/102 - 0s - loss: 1.5787 - accuracy: 0.3235 - val_loss: 1.2980 - val_accuracy: 0.4444\n",
      "Epoch 2/200\n",
      "102/102 - 0s - loss: 1.4355 - accuracy: 0.3235 - val_loss: 1.2208 - val_accuracy: 0.4444\n",
      "Epoch 3/200\n",
      "102/102 - 0s - loss: 1.3170 - accuracy: 0.3235 - val_loss: 1.1647 - val_accuracy: 0.4444\n",
      "Epoch 4/200\n",
      "102/102 - 0s - loss: 1.2409 - accuracy: 0.3235 - val_loss: 1.1241 - val_accuracy: 0.4444\n",
      "Epoch 5/200\n",
      "102/102 - 0s - loss: 1.1697 - accuracy: 0.3235 - val_loss: 1.0937 - val_accuracy: 0.4444\n",
      "Epoch 6/200\n",
      "102/102 - 0s - loss: 1.1210 - accuracy: 0.3235 - val_loss: 1.0748 - val_accuracy: 0.4444\n",
      "Epoch 7/200\n",
      "102/102 - 0s - loss: 1.0840 - accuracy: 0.3137 - val_loss: 1.0661 - val_accuracy: 0.2222\n",
      "Epoch 8/200\n",
      "102/102 - 0s - loss: 1.0654 - accuracy: 0.0392 - val_loss: 1.0599 - val_accuracy: 0.1667\n",
      "Epoch 9/200\n",
      "102/102 - 0s - loss: 1.0438 - accuracy: 0.3333 - val_loss: 1.0503 - val_accuracy: 0.4444\n",
      "Epoch 10/200\n",
      "102/102 - 0s - loss: 1.0292 - accuracy: 0.7353 - val_loss: 1.0353 - val_accuracy: 0.7222\n",
      "Epoch 11/200\n",
      "102/102 - 0s - loss: 1.0166 - accuracy: 0.6176 - val_loss: 1.0278 - val_accuracy: 0.3889\n",
      "Epoch 12/200\n",
      "102/102 - 0s - loss: 1.0039 - accuracy: 0.4902 - val_loss: 1.0131 - val_accuracy: 0.5000\n",
      "Epoch 13/200\n",
      "102/102 - 0s - loss: 0.9909 - accuracy: 0.5686 - val_loss: 1.0044 - val_accuracy: 0.5000\n",
      "Epoch 14/200\n",
      "102/102 - 0s - loss: 0.9763 - accuracy: 0.7157 - val_loss: 0.9913 - val_accuracy: 0.5000\n",
      "Epoch 15/200\n",
      "102/102 - 0s - loss: 0.9633 - accuracy: 0.7255 - val_loss: 0.9797 - val_accuracy: 0.5556\n",
      "Epoch 16/200\n",
      "102/102 - 0s - loss: 0.9490 - accuracy: 0.7255 - val_loss: 0.9643 - val_accuracy: 0.5556\n",
      "Epoch 17/200\n",
      "102/102 - 0s - loss: 0.9324 - accuracy: 0.7353 - val_loss: 0.9556 - val_accuracy: 0.5556\n",
      "Epoch 18/200\n",
      "102/102 - 0s - loss: 0.9167 - accuracy: 0.7157 - val_loss: 0.9452 - val_accuracy: 0.5556\n",
      "Epoch 19/200\n",
      "102/102 - 0s - loss: 0.9002 - accuracy: 0.7059 - val_loss: 0.9357 - val_accuracy: 0.5556\n",
      "Epoch 20/200\n",
      "102/102 - 0s - loss: 0.8836 - accuracy: 0.6863 - val_loss: 0.9194 - val_accuracy: 0.5556\n",
      "Epoch 21/200\n",
      "102/102 - 0s - loss: 0.8660 - accuracy: 0.6863 - val_loss: 0.9065 - val_accuracy: 0.5556\n",
      "Epoch 22/200\n",
      "102/102 - 0s - loss: 0.8504 - accuracy: 0.6765 - val_loss: 0.8961 - val_accuracy: 0.5556\n",
      "Epoch 23/200\n",
      "102/102 - 0s - loss: 0.8356 - accuracy: 0.6765 - val_loss: 0.8836 - val_accuracy: 0.5556\n",
      "Epoch 24/200\n",
      "102/102 - 0s - loss: 0.8176 - accuracy: 0.6863 - val_loss: 0.8598 - val_accuracy: 0.5556\n",
      "Epoch 25/200\n",
      "102/102 - 0s - loss: 0.7976 - accuracy: 0.6961 - val_loss: 0.8404 - val_accuracy: 0.5556\n",
      "Epoch 26/200\n",
      "102/102 - 0s - loss: 0.7799 - accuracy: 0.7157 - val_loss: 0.8212 - val_accuracy: 0.5556\n",
      "Epoch 27/200\n",
      "102/102 - 0s - loss: 0.7631 - accuracy: 0.7647 - val_loss: 0.7969 - val_accuracy: 0.7222\n",
      "Epoch 28/200\n",
      "102/102 - 0s - loss: 0.7465 - accuracy: 0.8824 - val_loss: 0.7775 - val_accuracy: 0.8889\n",
      "Epoch 29/200\n",
      "102/102 - 0s - loss: 0.7310 - accuracy: 0.9608 - val_loss: 0.7607 - val_accuracy: 0.8889\n",
      "Epoch 30/200\n",
      "102/102 - 0s - loss: 0.7135 - accuracy: 0.9804 - val_loss: 0.7444 - val_accuracy: 0.8889\n",
      "Epoch 31/200\n",
      "102/102 - 0s - loss: 0.6975 - accuracy: 0.9804 - val_loss: 0.7285 - val_accuracy: 0.8889\n",
      "Epoch 32/200\n",
      "102/102 - 0s - loss: 0.6809 - accuracy: 0.9510 - val_loss: 0.7174 - val_accuracy: 0.8889\n",
      "Epoch 33/200\n",
      "102/102 - 0s - loss: 0.6649 - accuracy: 0.8333 - val_loss: 0.7110 - val_accuracy: 0.7222\n",
      "Epoch 34/200\n",
      "102/102 - 0s - loss: 0.6490 - accuracy: 0.7941 - val_loss: 0.6982 - val_accuracy: 0.7222\n",
      "Epoch 35/200\n",
      "102/102 - 0s - loss: 0.6343 - accuracy: 0.8627 - val_loss: 0.6799 - val_accuracy: 0.8889\n",
      "Epoch 36/200\n",
      "102/102 - 0s - loss: 0.6210 - accuracy: 0.9314 - val_loss: 0.6648 - val_accuracy: 0.8889\n",
      "Epoch 37/200\n",
      "102/102 - 0s - loss: 0.6075 - accuracy: 0.9510 - val_loss: 0.6521 - val_accuracy: 0.8889\n",
      "Epoch 38/200\n",
      "102/102 - 0s - loss: 0.5953 - accuracy: 0.9510 - val_loss: 0.6404 - val_accuracy: 0.8889\n",
      "Epoch 39/200\n",
      "102/102 - 0s - loss: 0.5810 - accuracy: 0.9020 - val_loss: 0.6367 - val_accuracy: 0.7778\n",
      "Epoch 40/200\n",
      "102/102 - 0s - loss: 0.5706 - accuracy: 0.7941 - val_loss: 0.6306 - val_accuracy: 0.6667\n",
      "Epoch 41/200\n",
      "102/102 - 0s - loss: 0.5587 - accuracy: 0.8235 - val_loss: 0.6161 - val_accuracy: 0.8333\n",
      "Epoch 42/200\n",
      "102/102 - 0s - loss: 0.5478 - accuracy: 0.8922 - val_loss: 0.6023 - val_accuracy: 0.8889\n",
      "Epoch 43/200\n",
      "102/102 - 0s - loss: 0.5371 - accuracy: 0.9314 - val_loss: 0.5890 - val_accuracy: 0.8889\n",
      "Epoch 44/200\n",
      "102/102 - 0s - loss: 0.5267 - accuracy: 0.9804 - val_loss: 0.5774 - val_accuracy: 0.8889\n",
      "Epoch 45/200\n",
      "102/102 - 0s - loss: 0.5151 - accuracy: 0.9412 - val_loss: 0.5726 - val_accuracy: 0.8889\n",
      "Epoch 46/200\n",
      "102/102 - 0s - loss: 0.5033 - accuracy: 0.8824 - val_loss: 0.5701 - val_accuracy: 0.8333\n",
      "Epoch 47/200\n",
      "102/102 - 0s - loss: 0.4938 - accuracy: 0.8431 - val_loss: 0.5648 - val_accuracy: 0.6667\n",
      "Epoch 48/200\n",
      "102/102 - 0s - loss: 0.4826 - accuracy: 0.8627 - val_loss: 0.5476 - val_accuracy: 0.8333\n",
      "Epoch 49/200\n",
      "102/102 - 0s - loss: 0.4719 - accuracy: 0.9314 - val_loss: 0.5317 - val_accuracy: 0.8889\n",
      "Epoch 50/200\n",
      "102/102 - 0s - loss: 0.4625 - accuracy: 0.9412 - val_loss: 0.5214 - val_accuracy: 0.8889\n",
      "Epoch 51/200\n",
      "102/102 - 0s - loss: 0.4553 - accuracy: 0.9804 - val_loss: 0.5046 - val_accuracy: 0.8889\n",
      "Epoch 52/200\n",
      "102/102 - 0s - loss: 0.4494 - accuracy: 0.9902 - val_loss: 0.4986 - val_accuracy: 0.8889\n",
      "Epoch 53/200\n",
      "102/102 - 0s - loss: 0.4414 - accuracy: 0.9902 - val_loss: 0.4951 - val_accuracy: 0.8889\n",
      "Epoch 54/200\n",
      "102/102 - 0s - loss: 0.4352 - accuracy: 0.9902 - val_loss: 0.4870 - val_accuracy: 0.8889\n",
      "Epoch 55/200\n",
      "102/102 - 0s - loss: 0.4306 - accuracy: 0.9804 - val_loss: 0.4950 - val_accuracy: 0.8889\n",
      "Epoch 56/200\n",
      "102/102 - 0s - loss: 0.4229 - accuracy: 0.9706 - val_loss: 0.4847 - val_accuracy: 0.8889\n",
      "Epoch 57/200\n",
      "102/102 - 0s - loss: 0.4172 - accuracy: 0.9902 - val_loss: 0.4691 - val_accuracy: 0.8889\n",
      "Epoch 58/200\n",
      "102/102 - 0s - loss: 0.4124 - accuracy: 0.9902 - val_loss: 0.4652 - val_accuracy: 0.8889\n",
      "Epoch 59/200\n",
      "102/102 - 0s - loss: 0.4062 - accuracy: 0.9902 - val_loss: 0.4608 - val_accuracy: 0.8889\n",
      "Epoch 60/200\n",
      "102/102 - 0s - loss: 0.4010 - accuracy: 0.9902 - val_loss: 0.4591 - val_accuracy: 0.8889\n",
      "Epoch 61/200\n",
      "102/102 - 0s - loss: 0.3956 - accuracy: 0.9902 - val_loss: 0.4552 - val_accuracy: 0.8889\n",
      "Epoch 62/200\n",
      "102/102 - 0s - loss: 0.3911 - accuracy: 0.9804 - val_loss: 0.4528 - val_accuracy: 0.8889\n",
      "Epoch 63/200\n",
      "102/102 - 0s - loss: 0.3861 - accuracy: 0.9804 - val_loss: 0.4507 - val_accuracy: 0.8889\n",
      "Epoch 64/200\n",
      "102/102 - 0s - loss: 0.3811 - accuracy: 0.9804 - val_loss: 0.4484 - val_accuracy: 0.8889\n",
      "Epoch 65/200\n",
      "102/102 - 0s - loss: 0.3784 - accuracy: 0.9902 - val_loss: 0.4365 - val_accuracy: 0.8889\n",
      "Epoch 66/200\n",
      "102/102 - 0s - loss: 0.3713 - accuracy: 0.9804 - val_loss: 0.4340 - val_accuracy: 0.8889\n",
      "Epoch 67/200\n",
      "102/102 - 0s - loss: 0.3672 - accuracy: 0.9804 - val_loss: 0.4289 - val_accuracy: 0.8889\n",
      "Epoch 68/200\n",
      "102/102 - 0s - loss: 0.3613 - accuracy: 0.9902 - val_loss: 0.4153 - val_accuracy: 0.8889\n",
      "Epoch 69/200\n",
      "102/102 - 0s - loss: 0.3589 - accuracy: 0.9902 - val_loss: 0.4227 - val_accuracy: 0.8889\n",
      "Epoch 70/200\n",
      "102/102 - 0s - loss: 0.3530 - accuracy: 0.9804 - val_loss: 0.4161 - val_accuracy: 0.8889\n"
     ]
    },
    {
     "data": {
      "text/plain": [
       "<tensorflow.python.keras.callbacks.History at 0x116c9a48>"
      ]
     },
     "execution_count": 29,
     "metadata": {},
     "output_type": "execute_result"
    }
   ],
   "source": [
    "# Set the input and output sizes\n",
    "input_size = train_inputs.shape[1]\n",
    "output_size = 3\n",
    "# Use same hidden layer size for both hidden layers. Not a necessity.\n",
    "hidden_layer_size = 16\n",
    "    \n",
    "# define how the model will look like\n",
    "model = tf.keras.Sequential([\n",
    "    # tf.keras.layers.Dense is basically implementing: output = activation(dot(input, weight) + bias)\n",
    "    # it takes several arguments, but the most important ones for us are the hidden_layer_size and the activation function\n",
    "    tf.keras.layers.Dense(hidden_layer_size, activation='sigmoid'), # 1st hidden layer\n",
    "    # the final layer is no different, we just make sure to activate it with softmax\n",
    "    tf.keras.layers.Dense(output_size, activation='softmax') # output layer\n",
    "])\n",
    "\n",
    "\n",
    "### Choose the optimizer and the loss function\n",
    "\n",
    "# we define the optimizer we'd like to use, \n",
    "# the loss function, \n",
    "# and the metrics we are interested in obtaining at each iteration\n",
    "model.compile(optimizer='adam', loss='sparse_categorical_crossentropy', metrics=['accuracy'])\n",
    "\n",
    "### Training\n",
    "# That's where we train the model we have built.\n",
    "\n",
    "# set the batch size\n",
    "batch_size = 10\n",
    "\n",
    "# set a maximum number of training epochs\n",
    "max_epochs = 200\n",
    "\n",
    "# set an early stopping mechanism\n",
    "# let's set patience=2, to be a bit tolerant against random validation loss increases\n",
    "early_stopping = tf.keras.callbacks.EarlyStopping(patience=2)\n",
    "\n",
    "# fit the model\n",
    "# note that this time the train, validation and test data are not iterable\n",
    "model.fit(train_inputs, # train inputs\n",
    "          train_targets, # train targets\n",
    "          batch_size=batch_size, # batch size\n",
    "          epochs=max_epochs, # epochs that we will train for (assuming early stopping doesn't kick in)\n",
    "          # callbacks are functions called by a task when a task is completed\n",
    "          # task here is to check if val_loss is increasing\n",
    "          callbacks=[early_stopping], # early stopping\n",
    "          validation_data=(validation_inputs, validation_targets), # validation data\n",
    "          verbose = 2 # making sure we get enough information about the training process\n",
    "          )  "
   ]
  },
  {
   "cell_type": "markdown",
   "metadata": {},
   "source": [
    "### Evaluating model"
   ]
  },
  {
   "cell_type": "code",
   "execution_count": 30,
   "metadata": {},
   "outputs": [
    {
     "name": "stdout",
     "output_type": "stream",
     "text": [
      "30/30 [==============================] - 0s 67us/sample - loss: 0.3596 - accuracy: 0.9667\n"
     ]
    }
   ],
   "source": [
    "test_loss, test_accuracy = model.evaluate(test_inputs, test_targets)"
   ]
  },
  {
   "cell_type": "code",
   "execution_count": 31,
   "metadata": {},
   "outputs": [
    {
     "name": "stdout",
     "output_type": "stream",
     "text": [
      "Test loss: 0.36. Test accuracy: 96.67%\n"
     ]
    }
   ],
   "source": [
    "print('Test loss: {0:.2f}. Test accuracy: {1:.2f}%'.format(test_loss, test_accuracy*100.))"
   ]
  },
  {
   "cell_type": "code",
   "execution_count": 216,
   "metadata": {},
   "outputs": [],
   "source": [
    "model.save('iris_nn.h5')"
   ]
  },
  {
   "cell_type": "code",
   "execution_count": 249,
   "metadata": {},
   "outputs": [
    {
     "name": "stdout",
     "output_type": "stream",
     "text": [
      "[array([[ 0.20213988, -0.34004766,  0.3376199 , -0.3882282 ],\n",
      "       [ 0.8560197 , -0.42861333,  0.59015435, -0.769332  ],\n",
      "       [-1.2987196 ,  1.3541142 , -0.59934705,  0.12842987],\n",
      "       [-0.86695695, -0.14911127, -1.2194976 , -0.03023172]],\n",
      "      dtype=float32), array([ 0.7494692 , -0.04173908,  0.1949014 , -0.2668786 ], dtype=float32)]\n",
      "[array([[ 1.8096459 , -1.657313  , -2.580729  ],\n",
      "       [-1.2568648 ,  0.62697315,  0.6280899 ],\n",
      "       [ 1.0879838 ,  0.5964791 , -0.57228243],\n",
      "       [ 0.53407407, -0.5479286 , -0.26714033]], dtype=float32), array([-0.5516936 ,  0.04402858,  0.4595358 ], dtype=float32)]\n"
     ]
    }
   ],
   "source": [
    "for layer in model.layers:\n",
    "    print(layer.get_weights())"
   ]
  },
  {
   "cell_type": "code",
   "execution_count": 32,
   "metadata": {},
   "outputs": [
    {
     "name": "stdout",
     "output_type": "stream",
     "text": [
      "WARNING:tensorflow:Sequential models without an `input_shape` passed to the first layer cannot reload their optimizer state. As a result, your model isstarting with a freshly initialized optimizer.\n"
     ]
    }
   ],
   "source": [
    "import tensorflow as tf \n",
    "model = tf.keras.models.load_model('iris_nn.h5')"
   ]
  },
  {
   "cell_type": "code",
   "execution_count": 36,
   "metadata": {},
   "outputs": [],
   "source": [
    "layers = model.layers\n",
    "hidden_layer_weigths = pd.DataFrame(layers[0].get_weights()[0])\n",
    "hidden_layer_weigths.to_clipboard()"
   ]
  },
  {
   "cell_type": "code",
   "execution_count": 37,
   "metadata": {},
   "outputs": [],
   "source": [
    "layers = model.layers\n",
    "hidden_layer_biases = pd.DataFrame(layers[0].get_weights()[1])\n",
    "hidden_layer_biases.to_clipboard()"
   ]
  },
  {
   "cell_type": "code",
   "execution_count": 38,
   "metadata": {},
   "outputs": [],
   "source": [
    "layers = model.layers\n",
    "output_layer_weigths = pd.DataFrame(layers[1].get_weights()[0])\n",
    "output_layer_weigths.to_clipboard()"
   ]
  },
  {
   "cell_type": "code",
   "execution_count": 39,
   "metadata": {},
   "outputs": [],
   "source": [
    "layers = model.layers\n",
    "output_layer_biases = pd.DataFrame(layers[1].get_weights()[1])\n",
    "output_layer_biases.to_clipboard()"
   ]
  },
  {
   "cell_type": "code",
   "execution_count": 40,
   "metadata": {},
   "outputs": [
    {
     "name": "stdout",
     "output_type": "stream",
     "text": [
      "    sepal length  sepal width  petal length  petal width\n",
      "0            6.1          2.8           4.7          1.2\n",
      "1            5.7          3.8           1.7          0.3\n",
      "2            7.7          2.6           6.9          2.3\n",
      "3            6.0          2.9           4.5          1.5\n",
      "4            6.8          2.8           4.8          1.4\n",
      "5            5.4          3.4           1.5          0.4\n",
      "6            5.6          2.9           3.6          1.3\n",
      "7            6.9          3.1           5.1          2.3\n",
      "8            6.2          2.2           4.5          1.5\n",
      "9            5.8          2.7           3.9          1.2\n",
      "10           6.5          3.2           5.1          2.0\n",
      "11           4.8          3.0           1.4          0.1\n",
      "12           5.5          3.5           1.3          0.2\n",
      "13           4.9          3.1           1.5          0.1\n",
      "14           5.1          3.8           1.5          0.3\n",
      "15           6.3          3.3           4.7          1.6\n",
      "16           6.5          3.0           5.8          2.2\n",
      "17           5.6          2.5           3.9          1.1\n",
      "18           5.7          2.8           4.5          1.3\n",
      "19           6.4          2.8           5.6          2.2\n",
      "20           4.7          3.2           1.6          0.2\n",
      "21           6.1          3.0           4.9          1.8\n",
      "22           5.0          3.4           1.6          0.4\n",
      "23           6.4          2.8           5.6          2.1\n",
      "24           7.9          3.8           6.4          2.0\n",
      "25           6.7          3.0           5.2          2.3\n",
      "26           6.7          2.5           5.8          1.8\n",
      "27           6.8          3.2           5.9          2.3\n",
      "28           4.8          3.0           1.4          0.3\n",
      "29           4.8          3.1           1.6          0.2\n"
     ]
    }
   ],
   "source": [
    "test = pd.DataFrame(test_inputs, columns=columns)\n",
    "print(test)\n",
    "test.to_clipboard(excel=True)"
   ]
  },
  {
   "cell_type": "code",
   "execution_count": 33,
   "metadata": {},
   "outputs": [],
   "source": [
    "pd.DataFrame(model.predict(test_inputs)).to_clipboard()"
   ]
  }
 ],
 "metadata": {
  "kernelspec": {
   "display_name": "Python 3",
   "language": "python",
   "name": "python3"
  },
  "language_info": {
   "codemirror_mode": {
    "name": "ipython",
    "version": 3
   },
   "file_extension": ".py",
   "mimetype": "text/x-python",
   "name": "python",
   "nbconvert_exporter": "python",
   "pygments_lexer": "ipython3",
   "version": "3.7.4"
  }
 },
 "nbformat": 4,
 "nbformat_minor": 4
}
