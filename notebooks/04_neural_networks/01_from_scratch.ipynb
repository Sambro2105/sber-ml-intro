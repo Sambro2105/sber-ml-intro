{
 "cells": [
  {
   "cell_type": "markdown",
   "metadata": {},
   "source": [
    "# NeuralNetwork"
   ]
  },
  {
   "cell_type": "markdown",
   "metadata": {},
   "source": [
    "## Чтобы установить ipywidgets:\n",
    "\n",
    "`!pip install ipywidgets`\n",
    "\n",
    "__Для тех кто на Jupyter Notebook:__\n",
    "\n",
    "`!jupyter nbextension enable --py widgetsnbextension`\n",
    "\n",
    "__Для тех, кто на Jupyter Lab:__\n",
    "\n",
    "`!jupyter labextension install @jupyter-widgets/jupyterlab-manager`"
   ]
  },
  {
   "cell_type": "code",
   "execution_count": null,
   "metadata": {},
   "outputs": [],
   "source": [
    "# в моем случае это Jupyter Lab, поэтому я прямо из ноутбука могу доустановить нужный модель\n",
    "\n",
    "# прежде виджет нужно скачать\n",
    "!pip install ipywidgets\n",
    "\n",
    "# И далее установить виджет в jupyter lab и активировать его\n",
    "!jupyter labextension install @jupyter-widgets/jupyterlab-manager\n"
   ]
  },
  {
   "cell_type": "markdown",
   "metadata": {},
   "source": [
    "# По материалам <u>[Neural Network from scratch](https://towardsdatascience.com/neural-networks-from-scratch-easy-vs-hard-b26ddc2e89c7)</u>"
   ]
  },
  {
   "cell_type": "code",
   "execution_count": 3,
   "metadata": {},
   "outputs": [],
   "source": [
    "import pandas as pd\n",
    "import numpy as np\n",
    "\n",
    "# функция активации нейорна\n",
    "def sigmoid(s):    \n",
    "    return 1/(1 + np.exp(-s))\n",
    "\n",
    "# Производная сигмоиды для метода обратного распространения ошибки (backpropagation)\n",
    "def sigmoid_deriv(s):\n",
    "    return s * (1 - s)\n",
    "\n",
    "# Функция активации выходного слоя Softmax. \n",
    "# Первое что гугл выдал: https://www.machinelearningmastery.ru/the-softmax-function-neural-net-outputs-as-probabilities-and-ensemble-classifiers-9bd94d75932/\n",
    "# Softmax формирует интерпретируемость выходного слоя как набор вероятностей отнесения каждого выходного нейрона как\n",
    "# вероятности отнесения входного вектора к какой-то одной из категорий (при условии, что мы используем softmax как функцию активации выходного слоя и кросс-энтропию для функции потерь.\n",
    "# Сумма всех вероятностей выходного слоя равна единице.\n",
    "# Так например, если предсказываем ирисы, то у нас есть три категории. И тогда у нас будет три нейрона на выходном слое.\n",
    "# Каждый нейрон показывает вероятность отнесения входного вектора к своей категории. \n",
    "# Например выходной вектор с функцией активации softmax выдаёт такой вектор [0.31, 0.52, 0.17]\n",
    "# Его можно интерпретировать следующим образом: второй нейрон (средний) имеет самую большую вероятность, \n",
    "# значит предполагаем, что это вторая категория.\n",
    "def softmax(s):\n",
    "    exps = np.exp(s - np.max(s, axis=1, keepdims=True))\n",
    "    return exps/np.sum(exps, axis=1, keepdims=True)\n",
    "\n",
    "\n",
    "def cross_entropy(pred, real):\n",
    "    n_samples = real.shape[0]\n",
    "    residuals = pred - real\n",
    "    return residuals/n_samples\n",
    "\n",
    "\n",
    "def error(pred, real):\n",
    "    n_samples = real.shape[0]\n",
    "    logp = -np.log(pred[np.arange(n_samples), real.argmax(axis=1)])\n",
    "    loss = np.sum(logp)/n_samples\n",
    "    return loss\n",
    "\n",
    "# Эта та же самая Accuracy, что и в задаче с Титаником\n",
    "def get_accuracy(model, X, y):\n",
    "    accuracy = 0\n",
    "    for xx, yy in zip(X,y):\n",
    "        prediction = model.predict(xx)\n",
    "        if prediction == np.argmax(yy):\n",
    "            accuracy += 1\n",
    "    return accuracy/len(X)\n",
    "\n",
    "\n",
    "class NN:\n",
    "    # Инициализируем экземпляр класса\n",
    "    def __init__(self, X, y, neurons = 128, lr = 0.5):\n",
    "        self.X = X\n",
    "        self.y = y        \n",
    "        self.lr = lr\n",
    "        ip_dim = X.shape[1] #input layer\n",
    "        op_dim = y.shape[1] #output layer\n",
    "        \n",
    "        self.w1 = np.random.randn(ip_dim, neurons) #weights\n",
    "        self.b1 = np.zeros((1, neurons)) #biases\n",
    "        \n",
    "        self.w2 = np.random.randn(neurons, neurons)\n",
    "        self.b2 = np.zeros((1, neurons))\n",
    "        \n",
    "        self.w3 = np.random.randn(neurons, op_dim)\n",
    "        self.b3 = np.zeros((1, op_dim))\n",
    "\n",
    "\n",
    "    def feedforward(self):\n",
    "        z1 = np.dot(self.X, self.w1) + self.b1\n",
    "        self.tmp_z1 = z1\n",
    "        self.a1 = sigmoid(z1)\n",
    "\n",
    "        z2 = np.dot(self.a1, self.w2) + self.b2\n",
    "        self.tmp_z2 = z2\n",
    "        self.a2 = sigmoid(z2)\n",
    "\n",
    "        z3 = np.dot(self.a2, self.w3) + self.b3\n",
    "        self.tmp_z3 = z3\n",
    "        self.a3 = softmax(z3) \n",
    "    \n",
    "\n",
    "    def get_loss(self):\n",
    "        loss = error(self.a3, self.y)\n",
    "        return loss\n",
    "    \n",
    "    \n",
    "    def backprop(self):\n",
    "        a3_delta = cross_entropy(self.a3, self.y) #weights3\n",
    "        z2_delta = np.dot(a3_delta, self.w3.T)\n",
    "        \n",
    "        a2_delta = z2_delta * sigmoid_deriv(self.a2) #weights2\n",
    "        z1_delta = np.dot(a2_delta, self.w2.T)\n",
    "        \n",
    "        a1_delta = z1_delta * sigmoid_deriv(self.a1) #weights1\n",
    "        \n",
    "        self.w3 -= self.lr * np.dot(self.a2.T, a3_delta)\n",
    "        self.b3 -= self.lr * np.sum(a3_delta, axis=0, keepdims=True)\n",
    "        self.w2 -= self.lr * np.dot(self.a1.T, a2_delta)\n",
    "        self.b2 -= self.lr * np.sum(a2_delta, axis=0)\n",
    "        self.w1 -= self.lr * np.dot(self.X.T, a1_delta)\n",
    "        self.b1 -= self.lr * np.sum(a1_delta, axis=0)\n",
    "        \n",
    "        \n",
    "    def predict(self, data):\n",
    "        self.X = data\n",
    "        self.feedforward()\n",
    "        return self.a3.argmax()    "
   ]
  },
  {
   "cell_type": "code",
   "execution_count": 2,
   "metadata": {},
   "outputs": [
    {
     "data": {
      "application/vnd.jupyter.widget-view+json": {
       "model_id": "d4d5e401d524452280371976ebfc1954",
       "version_major": 2,
       "version_minor": 0
      },
      "text/plain": [
       "HTML(value='')"
      ]
     },
     "metadata": {},
     "output_type": "display_data"
    },
    {
     "name": "stdout",
     "output_type": "stream",
     "text": [
      "Train accuracy:     96.91%\n",
      " Test accuracy:     82.22%\n"
     ]
    }
   ],
   "source": [
    "from sklearn.datasets import load_digits\n",
    "from sklearn.model_selection import train_test_split\n",
    "import matplotlib.pyplot as plt\n",
    "from ipywidgets import HTML\n",
    "import time\n",
    "\n",
    "dig = load_digits() # получаем датасет\n",
    "onehot_target = pd.get_dummies(dig.target)\n",
    "dig.keys()\n",
    "X_train, X_test, y_train, y_test = train_test_split(dig.data, onehot_target, \n",
    "                                                    test_size = 0.1, random_state=42)\n",
    "\n",
    "nn = NN(X_train, np.array(y_train), neurons = 128, lr = 0.2)\n",
    "\n",
    "epochs = 300\n",
    "\n",
    "h = HTML(); display(h)\n",
    "previous_loss = 0\n",
    "previous_validation_loss = 100\n",
    "ts = time.time()\n",
    "for epoch in range(epochs):\n",
    "    nn.feedforward() # прямой прогон модели\n",
    "    loss = nn.get_loss()\n",
    "    # проверка, что если модель начала\n",
    "    # У нас есть X_test, y_test, но по ним будем проверять финальное качество модели. \n",
    "    # Однако ничто не мешает обучающую выборку разбить еще раз на обучающую\\валидационную и проверять\n",
    "    # модель на переобучение\\необходимость сделать остановку в обуччении\n",
    "    # validation_loss = nn.get_loss(X_validation, y_validation) \n",
    "    h.value = '''\n",
    "        Error on {epoch} epoch: {loss:.2%} (change: {change:>8.6%})<br>\n",
    "        Time passed: {time:.1f}s'''.format(\n",
    "        epoch = epoch, loss = loss, change = loss - previous_loss, \n",
    "        time=time.time()-ts)\\\n",
    "        .replace(' ', '&nbsp;')    \n",
    "    nn.backprop() # обновляем веса\n",
    "    \n",
    "    previous_loss = loss\n",
    "        \n",
    "print(\"Train accuracy: {0:>10.2%}\".format(get_accuracy(nn, X_train, np.array(y_train))))\n",
    "print(\" Test accuracy: {0:>10.2%}\".format(get_accuracy(nn, X_test, np.array(y_test))))"
   ]
  },
  {
   "cell_type": "markdown",
   "metadata": {},
   "source": [
    "#  Пару абзацев про датасет"
   ]
  },
  {
   "cell_type": "code",
   "execution_count": 11,
   "metadata": {},
   "outputs": [
    {
     "data": {
      "text/plain": [
       "dict_keys(['data', 'target', 'target_names', 'images', 'DESCR'])"
      ]
     },
     "execution_count": 11,
     "metadata": {},
     "output_type": "execute_result"
    }
   ],
   "source": [
    "# В качестве датасета используется \n",
    "dig = load_digits() # загружаем один из датасетов через sklearn\n",
    "print(type(dig)) # Это не DICT\n",
    "dig.keys() #Но ведет себя почти как dict\n",
    "dig['data']"
   ]
  },
  {
   "cell_type": "code",
   "execution_count": 120,
   "metadata": {},
   "outputs": [
    {
     "name": "stdout",
     "output_type": "stream",
     "text": [
      ".. _digits_dataset:\n",
      "\n",
      "Optical recognition of handwritten digits dataset\n",
      "--------------------------------------------------\n",
      "\n",
      "**Data Set Characteristics:**\n",
      "\n",
      "    :Number of Instances: 5620\n",
      "    :Number of Attributes: 64\n",
      "    :Attribute Information: 8x8 image of integer pixels in the range 0..16.\n",
      "    :Missing Attribute Values: None\n",
      "    :Creator: E. Alpaydin (alpaydin '@' boun.edu.tr)\n",
      "    :Date: July; 1998\n",
      "\n",
      "This is a copy of the test set of the UCI ML hand-written digits datasets\n",
      "https://archive.ics.uci.edu/ml/datasets/Optical+Recognition+of+Handwritten+Digits\n",
      "\n",
      "The data set contains images of hand-written digits: 10 classes where\n",
      "each class refers to a digit.\n",
      "\n",
      "Preprocessing programs made available by NIST were used to extract\n",
      "normalized bitmaps of handwritten digits from a preprinted form. From a\n",
      "total of 43 people, 30 contributed to the training set and different 13\n",
      "to the test set. 32x32 bitmaps are divided into nonoverlapping blocks of\n",
      "4x4 and the number of on pixels are counted in each block. This generates\n",
      "an input matrix of 8x8 where each element is an integer in the range\n",
      "0..16. This reduces dimensionality and gives invariance to small\n",
      "distortions.\n",
      "\n",
      "For info on NIST preprocessing routines, see M. D. Garris, J. L. Blue, G.\n",
      "T. Candela, D. L. Dimmick, J. Geist, P. J. Grother, S. A. Janet, and C.\n",
      "L. Wilson, NIST Form-Based Handprint Recognition System, NISTIR 5469,\n",
      "1994.\n",
      "\n",
      ".. topic:: References\n",
      "\n",
      "  - C. Kaynak (1995) Methods of Combining Multiple Classifiers and Their\n",
      "    Applications to Handwritten Digit Recognition, MSc Thesis, Institute of\n",
      "    Graduate Studies in Science and Engineering, Bogazici University.\n",
      "  - E. Alpaydin, C. Kaynak (1998) Cascading Classifiers, Kybernetika.\n",
      "  - Ken Tang and Ponnuthurai N. Suganthan and Xi Yao and A. Kai Qin.\n",
      "    Linear dimensionalityreduction using relevance weighted LDA. School of\n",
      "    Electrical and Electronic Engineering Nanyang Technological University.\n",
      "    2005.\n",
      "  - Claudio Gentile. A New Approximate Maximal Margin Classification\n",
      "    Algorithm. NIPS. 2000.\n"
     ]
    }
   ],
   "source": [
    "print(dig['DESCR'])"
   ]
  },
  {
   "cell_type": "code",
   "execution_count": 119,
   "metadata": {},
   "outputs": [
    {
     "data": {
      "text/plain": [
       "array([ 0.,  0.,  5., 13.,  9.,  1.,  0.,  0.,  0.,  0., 13., 15., 10.,\n",
       "       15.,  5.,  0.,  0.,  3., 15.,  2.,  0., 11.,  8.,  0.,  0.,  4.,\n",
       "       12.,  0.,  0.,  8.,  8.,  0.,  0.,  5.,  8.,  0.,  0.,  9.,  8.,\n",
       "        0.,  0.,  4., 11.,  0.,  1., 12.,  7.,  0.,  0.,  2., 14.,  5.,\n",
       "       10., 12.,  0.,  0.,  0.,  0.,  6., 13., 10.,  0.,  0.,  0.])"
      ]
     },
     "execution_count": 119,
     "metadata": {},
     "output_type": "execute_result"
    }
   ],
   "source": [
    " dig['data'][0] # один из подаваемых векторов (X)"
   ]
  },
  {
   "cell_type": "code",
   "execution_count": 17,
   "metadata": {},
   "outputs": [
    {
     "data": {
      "text/plain": [
       "array([[ 0.,  0.,  5., 13.,  9.,  1.,  0.,  0.],\n",
       "       [ 0.,  0., 13., 15., 10., 15.,  5.,  0.],\n",
       "       [ 0.,  3., 15.,  2.,  0., 11.,  8.,  0.],\n",
       "       [ 0.,  4., 12.,  0.,  0.,  8.,  8.,  0.],\n",
       "       [ 0.,  5.,  8.,  0.,  0.,  9.,  8.,  0.],\n",
       "       [ 0.,  4., 11.,  0.,  1., 12.,  7.,  0.],\n",
       "       [ 0.,  2., 14.,  5., 10., 12.,  0.,  0.],\n",
       "       [ 0.,  0.,  6., 13., 10.,  0.,  0.,  0.]])"
      ]
     },
     "execution_count": 17,
     "metadata": {},
     "output_type": "execute_result"
    }
   ],
   "source": [
    "dig['images'][0] # эти же данные, но уже в удобном для отрисовки в human-readable формате"
   ]
  },
  {
   "cell_type": "code",
   "execution_count": 23,
   "metadata": {},
   "outputs": [
    {
     "data": {
      "text/plain": [
       "<matplotlib.image.AxesImage at 0x1f592c276d0>"
      ]
     },
     "execution_count": 23,
     "metadata": {},
     "output_type": "execute_result"
    },
    {
     "data": {
      "image/png": "[encoded data removed]",
      "text/plain": [
       "<Figure size 432x288 with 1 Axes>"
      ]
     },
     "metadata": {
      "needs_background": "light"
     },
     "output_type": "display_data"
    }
   ],
   "source": [
    "# Так выглядит один из подаваемых экземпляров\n",
    "plt.imshow(dig['data'][50].reshape(8,8))"
   ]
  },
  {
   "cell_type": "code",
   "execution_count": 118,
   "metadata": {},
   "outputs": [
    {
     "data": {
      "image/png": "[encoded data removed]",
      "text/plain": [
       "<Figure size 432x288 with 1 Axes>"
      ]
     },
     "metadata": {
      "needs_background": "light"
     },
     "output_type": "display_data"
    },
    {
     "data": {
      "image/png": "[encoded data removed]",
      "text/plain": [
       "<Figure size 432x288 with 1 Axes>"
      ]
     },
     "metadata": {
      "needs_background": "light"
     },
     "output_type": "display_data"
    }
   ],
   "source": [
    "#Вот так выглядит входной вектор\n",
    "plt.imshow(dig['data'][50].reshape(64,1))\n",
    "plt.show()\n",
    "# или так\n",
    "plt.imshow(dig['data'][50].reshape(1,64))\n",
    "plt.show()"
   ]
  },
  {
   "cell_type": "code",
   "execution_count": null,
   "metadata": {},
   "outputs": [],
   "source": [
    "На самостоятельное изучение:\n",
    "\n",
    "1) Поиграться с архитектурой сети:\n",
    "    + Добавить\\Удалить скрытые слои (обновить методы feedforward, backprop, __init__)\n",
    "    + Посмотреть как зависит переобучение модели от learning rate (lr)\n",
    "    + Посмотреть как зависит переобучение модели от количества эпох\n",
    "    + Заменить метод активации нейрона с sigmoid на ReLU\n",
    "    + На каждой эпохе валидировать модель на отложенной выборке\n",
    "    + Если оценка валидации перестала изменяться (или начала ухудшаться) - прекратить обучение сети\n",
    "    + ?Визуализировать вектор изменения первого скрытого слоя (см. пример с разворотом входящего вектора в столбец)\n",
    "\n",
    "2) Подменить датасет на iris\n",
    "    + На ирисе входной вектор из 4 элементов - сделать архитектуру 1 скрытый слой и 4 нейрона\n",
    "    + Инициализировать экземпляр NN, обучить и после забрать из модели weights\\biases и ручками в эксельке посчитать\n",
    "3) Подменить датасет на титаник\n",
    "4) Построить confusion_maxtrix, classification_report\n",
    "    "
   ]
  },
  {
   "cell_type": "code",
   "execution_count": null,
   "metadata": {},
   "outputs": [],
   "source": []
  },
  {
   "cell_type": "code",
   "execution_count": 73,
   "metadata": {},
   "outputs": [
    {
     "data": {
      "text/html": [
       "<div>\n",
       "<style scoped>\n",
       "    .dataframe tbody tr th:only-of-type {\n",
       "        vertical-align: middle;\n",
       "    }\n",
       "\n",
       "    .dataframe tbody tr th {\n",
       "        vertical-align: top;\n",
       "    }\n",
       "\n",
       "    .dataframe thead th {\n",
       "        text-align: right;\n",
       "    }\n",
       "</style>\n",
       "<table border=\"1\" class=\"dataframe\">\n",
       "  <thead>\n",
       "    <tr style=\"text-align: right;\">\n",
       "      <th></th>\n",
       "      <th>sepal_length</th>\n",
       "      <th>sepal_width</th>\n",
       "      <th>petal_length</th>\n",
       "      <th>petal_width</th>\n",
       "      <th>species</th>\n",
       "    </tr>\n",
       "  </thead>\n",
       "  <tbody>\n",
       "    <tr>\n",
       "      <th>0</th>\n",
       "      <td>5.1</td>\n",
       "      <td>3.5</td>\n",
       "      <td>1.4</td>\n",
       "      <td>0.2</td>\n",
       "      <td>setosa</td>\n",
       "    </tr>\n",
       "    <tr>\n",
       "      <th>1</th>\n",
       "      <td>4.9</td>\n",
       "      <td>3.0</td>\n",
       "      <td>1.4</td>\n",
       "      <td>0.2</td>\n",
       "      <td>setosa</td>\n",
       "    </tr>\n",
       "    <tr>\n",
       "      <th>2</th>\n",
       "      <td>4.7</td>\n",
       "      <td>3.2</td>\n",
       "      <td>1.3</td>\n",
       "      <td>0.2</td>\n",
       "      <td>setosa</td>\n",
       "    </tr>\n",
       "    <tr>\n",
       "      <th>3</th>\n",
       "      <td>4.6</td>\n",
       "      <td>3.1</td>\n",
       "      <td>1.5</td>\n",
       "      <td>0.2</td>\n",
       "      <td>setosa</td>\n",
       "    </tr>\n",
       "    <tr>\n",
       "      <th>4</th>\n",
       "      <td>5.0</td>\n",
       "      <td>3.6</td>\n",
       "      <td>1.4</td>\n",
       "      <td>0.2</td>\n",
       "      <td>setosa</td>\n",
       "    </tr>\n",
       "  </tbody>\n",
       "</table>\n",
       "</div>"
      ],
      "text/plain": [
       "   sepal_length  sepal_width  petal_length  petal_width species\n",
       "0           5.1          3.5           1.4          0.2  setosa\n",
       "1           4.9          3.0           1.4          0.2  setosa\n",
       "2           4.7          3.2           1.3          0.2  setosa\n",
       "3           4.6          3.1           1.5          0.2  setosa\n",
       "4           5.0          3.6           1.4          0.2  setosa"
      ]
     },
     "execution_count": 73,
     "metadata": {},
     "output_type": "execute_result"
    }
   ],
   "source": [
    "# Датасет для ириса\n",
    "iris = pd.read_csv('../../data/raw/iris.csv')\n",
    "iris.head()"
   ]
  },
  {
   "cell_type": "markdown",
   "metadata": {},
   "source": [
    "# WTR:\n",
    "+ ## <u>[Neural Network from scratch](https://towardsdatascience.com/neural-networks-from-scratch-easy-vs-hard-b26ddc2e89c7)</u>\n",
    "\n",
    "+ ## <u>[Michael Nielsen __Neural Networks and Deep Learning__](http://neuralnetworksanddeeplearning.com/index.html)</u>\n",
    "https://medium.com/@pdquant/all-the-backpropagation-derivatives-d5275f727f60\n",
    "Функции активации https://towardsdatascience.com/comparison-of-activation-functions-for-deep-neural-networks-706ac4284c8a"
   ]
  }
 ],
 "metadata": {
  "kernelspec": {
   "display_name": "Python 3",
   "language": "python",
   "name": "python3"
  },
  "language_info": {
   "codemirror_mode": {
    "name": "ipython",
    "version": 3
   },
   "file_extension": ".py",
   "mimetype": "text/x-python",
   "name": "python",
   "nbconvert_exporter": "python",
   "pygments_lexer": "ipython3",
   "version": "3.8.1"
  }
 },
 "nbformat": 4,
 "nbformat_minor": 4
}
